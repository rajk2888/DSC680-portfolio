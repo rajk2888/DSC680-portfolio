{
 "cells": [
  {
   "cell_type": "markdown",
   "metadata": {},
   "source": [
    "# Assignment 4.2 Calculate Document Similarity\n",
    "## By Chase Lemons\n",
    "\n",
    "\n",
    "###### Premise\n",
    "\n",
    "This exercise using the Cars Dataset. For this exercise you will need to choose what you think will be most effective in determining what from our documents that make up the corpus is similar or dissimilar. Refer to figure 6-2 on page 99 in the Applied Text Analysis with Python textbook. You will use choose 5 features/Articles to calculate the document similarity. Report the similarity between the documents for each distance measure.\n",
    "\n",
    "A. Jaccard Distance\n",
    "\n",
    "You can calculate the Jaccard distance between two documents by calculating the number of unique words that appear in both documents and dividing it by the total number of unique words in both documents. The following is a simple function to calculate the Jaccard distance between two sets of words.\n",
    "\n",
    "\n",
    "B. Cosine similarity w/Tf-idf\n",
    "\n",
    "For the same five articles, compute the distance between the documents using the cosine similarity between the documents’ TF-idf vectors."
   ]
  },
  {
   "cell_type": "markdown",
   "metadata": {},
   "source": [
    "###### Premise Response\n",
    "\n",
    "This data set has many many many files. However, the majority of the files are image files. There are three files with data in them anno_test, anno_train, and names. So for part a we will test the jaccard distance function on the names. \n",
    "\n",
    "For part B, we will use the anno_train dataset to calculate cosine similarity between 5 images."
   ]
  },
  {
   "cell_type": "markdown",
   "metadata": {},
   "source": [
    "###### Data Import"
   ]
  },
  {
   "cell_type": "markdown",
   "metadata": {},
   "source": [
    "Cars Data Set\n",
    "https://www.kaggle.com/jutrera/stanford-car-dataset-by-classes-folder"
   ]
  },
  {
   "cell_type": "code",
   "execution_count": 22,
   "metadata": {},
   "outputs": [],
   "source": [
    "def jaccard_distance(d1_words,d2_words):\n",
    "    d1_unique = set(d1_words)\n",
    "    d2_unique = set(d2_words)\n",
    "    num_both = len(d1_unique.intersection(d2_unique))\n",
    "    num_total = len(d1_unique.union(d2_unique))\n",
    "    return num_both/num_total\n"
   ]
  },
  {
   "cell_type": "code",
   "execution_count": 1,
   "metadata": {},
   "outputs": [],
   "source": [
    "import pandas as pd"
   ]
  },
  {
   "cell_type": "code",
   "execution_count": 19,
   "metadata": {},
   "outputs": [],
   "source": [
    "with open(\"names.csv\") as f:\n",
    "    car_names = f.read().splitlines()"
   ]
  },
  {
   "cell_type": "markdown",
   "metadata": {},
   "source": [
    "###### Task A: Jaccard Distance\n",
    "\n",
    "You can calculate the Jaccard distance between two documents by calculating the number of unique words that appear in both documents and dividing it by the total number of unique words in both documents. The following is a simple function to calculate the Jaccard distance between two sets of words."
   ]
  },
  {
   "cell_type": "code",
   "execution_count": 23,
   "metadata": {},
   "outputs": [
    {
     "name": "stdout",
     "output_type": "stream",
     "text": [
      "The Jaccard Distance between the first and second name in the name dataset: 0.45454545454545453\n",
      "The Jaccard Distance between the second and third name in the name dataset: 0.875\n",
      "The Jaccard Distance between the third and fourth name in the name dataset: 0.631578947368421\n",
      "The Jaccard Distance between the fourth and fifth name in the name dataset: 0.55\n",
      "The Jaccard Distance between the fifth and sixth name in the name dataset: 0.5714285714285714\n"
     ]
    }
   ],
   "source": [
    "name_1 = jaccard_distance(car_names[0],car_names[1])\n",
    "name_2 = jaccard_distance(car_names[1],car_names[2])\n",
    "name_3 = jaccard_distance(car_names[2],car_names[3])\n",
    "name_4 = jaccard_distance(car_names[3],car_names[4])\n",
    "name_5 = jaccard_distance(car_names[4],car_names[5])\n",
    "\n",
    "print(\"The Jaccard Distance between the first and second name in the name dataset:\", name_1 )\n",
    "print(\"The Jaccard Distance between the second and third name in the name dataset:\", name_2 )\n",
    "print(\"The Jaccard Distance between the third and fourth name in the name dataset:\", name_3 )\n",
    "print(\"The Jaccard Distance between the fourth and fifth name in the name dataset:\", name_4 )\n",
    "print(\"The Jaccard Distance between the fifth and sixth name in the name dataset:\", name_5 )"
   ]
  },
  {
   "cell_type": "markdown",
   "metadata": {},
   "source": [
    "By looking at six different names and comparing them to the next one. We can see that the second and third name had the most similarity when using Jaccard Distance."
   ]
  },
  {
   "cell_type": "markdown",
   "metadata": {},
   "source": [
    "###### Task B: Cosine similarity w/Tf-idf\n",
    "\n",
    "For the same five articles, compute the distance between the documents using the cosine similarity between the documents’ TF-idf vectors."
   ]
  },
  {
   "cell_type": "code",
   "execution_count": 37,
   "metadata": {},
   "outputs": [],
   "source": [
    "from numpy import dot\n",
    "from numpy.linalg import norm\n",
    "\n",
    "\n",
    "def cos_sim(a,b):\n",
    "    calc = dot(a, b)/(norm(a)*norm(b))\n",
    "    return calc\n"
   ]
  },
  {
   "cell_type": "code",
   "execution_count": 25,
   "metadata": {},
   "outputs": [
    {
     "name": "stderr",
     "output_type": "stream",
     "text": [
      "C:\\Users\\c12003\\AppData\\Local\\Continuum\\anaconda3\\lib\\site-packages\\ipykernel_launcher.py:1: FutureWarning: from_csv is deprecated. Please use read_csv(...) instead. Note that some of the default arguments are different, so please refer to the documentation for from_csv when changing your function calls\n",
      "  \"\"\"Entry point for launching an IPython kernel.\n"
     ]
    },
    {
     "data": {
      "text/html": [
       "<div>\n",
       "<style scoped>\n",
       "    .dataframe tbody tr th:only-of-type {\n",
       "        vertical-align: middle;\n",
       "    }\n",
       "\n",
       "    .dataframe tbody tr th {\n",
       "        vertical-align: top;\n",
       "    }\n",
       "\n",
       "    .dataframe thead th {\n",
       "        text-align: right;\n",
       "    }\n",
       "</style>\n",
       "<table border=\"1\" class=\"dataframe\">\n",
       "  <thead>\n",
       "    <tr style=\"text-align: right;\">\n",
       "      <th></th>\n",
       "      <th>1</th>\n",
       "      <th>2</th>\n",
       "      <th>3</th>\n",
       "      <th>4</th>\n",
       "      <th>5</th>\n",
       "    </tr>\n",
       "    <tr>\n",
       "      <th>0</th>\n",
       "      <th></th>\n",
       "      <th></th>\n",
       "      <th></th>\n",
       "      <th></th>\n",
       "      <th></th>\n",
       "    </tr>\n",
       "  </thead>\n",
       "  <tbody>\n",
       "    <tr>\n",
       "      <th>00001.jpg</th>\n",
       "      <td>39</td>\n",
       "      <td>116</td>\n",
       "      <td>569</td>\n",
       "      <td>375</td>\n",
       "      <td>14</td>\n",
       "    </tr>\n",
       "    <tr>\n",
       "      <th>00002.jpg</th>\n",
       "      <td>36</td>\n",
       "      <td>116</td>\n",
       "      <td>868</td>\n",
       "      <td>587</td>\n",
       "      <td>3</td>\n",
       "    </tr>\n",
       "    <tr>\n",
       "      <th>00003.jpg</th>\n",
       "      <td>85</td>\n",
       "      <td>109</td>\n",
       "      <td>601</td>\n",
       "      <td>381</td>\n",
       "      <td>91</td>\n",
       "    </tr>\n",
       "    <tr>\n",
       "      <th>00004.jpg</th>\n",
       "      <td>621</td>\n",
       "      <td>393</td>\n",
       "      <td>1484</td>\n",
       "      <td>1096</td>\n",
       "      <td>134</td>\n",
       "    </tr>\n",
       "    <tr>\n",
       "      <th>00005.jpg</th>\n",
       "      <td>14</td>\n",
       "      <td>36</td>\n",
       "      <td>133</td>\n",
       "      <td>99</td>\n",
       "      <td>106</td>\n",
       "    </tr>\n",
       "  </tbody>\n",
       "</table>\n",
       "</div>"
      ],
      "text/plain": [
       "             1    2     3     4    5\n",
       "0                                   \n",
       "00001.jpg   39  116   569   375   14\n",
       "00002.jpg   36  116   868   587    3\n",
       "00003.jpg   85  109   601   381   91\n",
       "00004.jpg  621  393  1484  1096  134\n",
       "00005.jpg   14   36   133    99  106"
      ]
     },
     "execution_count": 25,
     "metadata": {},
     "output_type": "execute_result"
    }
   ],
   "source": [
    "anno_train = pd.DataFrame.from_csv(\"anno_train.csv\", sep=',', header = None)\n",
    "anno_train.head()"
   ]
  },
  {
   "cell_type": "code",
   "execution_count": 41,
   "metadata": {},
   "outputs": [
    {
     "name": "stdout",
     "output_type": "stream",
     "text": [
      "The Cosine Similarity between the first and second record in the anno_train dataset: 0.9978348449713464\n",
      "The Cosine Similarity between the second and third record in the anno_train dataset: 0.9878321277252321\n",
      "The Cosine Similarity between the third and fourth record in the anno_train dataset: 0.9746643446599363\n",
      "The Cosine Similarity between the fourth and fifth record in the anno_train dataset: 0.859120923660741\n",
      "The Cosine Similarity between the fifth and sixth record in the anno_train dataset: 0.8773740578793756\n"
     ]
    }
   ],
   "source": [
    "anno_arrays = anno_train.values.tolist()\n",
    "\n",
    "anno_comparison_1 = cos_sim(anno_arrays[0],anno_arrays[1])\n",
    "anno_comparison_2 = cos_sim(anno_arrays[1],anno_arrays[2])\n",
    "anno_comparison_3 = cos_sim(anno_arrays[2],anno_arrays[3])\n",
    "anno_comparison_4 = cos_sim(anno_arrays[3],anno_arrays[4])\n",
    "anno_comparison_5 = cos_sim(anno_arrays[4],anno_arrays[5])\n",
    "\n",
    "print(\"The Cosine Similarity between the first and second record in the anno_train dataset:\", anno_comparison_1 )\n",
    "print(\"The Cosine Similarity between the second and third record in the anno_train dataset:\", anno_comparison_2 )\n",
    "print(\"The Cosine Similarity between the third and fourth record in the anno_train dataset:\", anno_comparison_3 )\n",
    "print(\"The Cosine Similarity between the fourth and fifth record in the anno_train dataset:\", anno_comparison_4 )\n",
    "print(\"The Cosine Similarity between the fifth and sixth record in the anno_train dataset:\", anno_comparison_5 )"
   ]
  },
  {
   "cell_type": "code",
   "execution_count": null,
   "metadata": {},
   "outputs": [],
   "source": []
  }
 ],
 "metadata": {
  "kernelspec": {
   "display_name": "Python 3",
   "language": "python",
   "name": "python3"
  },
  "language_info": {
   "codemirror_mode": {
    "name": "ipython",
    "version": 3
   },
   "file_extension": ".py",
   "mimetype": "text/x-python",
   "name": "python",
   "nbconvert_exporter": "python",
   "pygments_lexer": "ipython3",
   "version": "3.7.1"
  }
 },
 "nbformat": 4,
 "nbformat_minor": 2
}
