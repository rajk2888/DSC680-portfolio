{
 "cells": [
  {
   "cell_type": "markdown",
   "metadata": {},
   "source": [
    "Final Code"
   ]
  },
  {
   "cell_type": "code",
   "execution_count": 1,
   "metadata": {},
   "outputs": [],
   "source": [
    "import pandas as pd\n",
    "import numpy as np\n",
    "from sklearn.neighbors import NearestNeighbors\n",
    "from sklearn.metrics.pairwise import cosine_similarity\n",
    "from scipy.sparse import csr_matrix\n",
    "from sklearn import metrics\n",
    "from sklearn.preprocessing import StandardScaler\n",
    "\n",
    "'''\n",
    "This cell reads in the data needed for the model. The two files needed are the combined data files with the \n",
    "customer ratings and the movie titles files in order for the model to print out recommended movies.\n",
    "\n",
    "Then once the data is read in, we put it in a pandas dataframe for it to be easier to work with.\n",
    "'''\n",
    "\n",
    "mov_titles = pd.read_csv('movie_titles.csv', header = None, encoding = \"ISO-8859-1\")\n",
    "\n",
    "mov_titles = mov_titles.drop(columns=[1,3,4,5], axis = 1)\n",
    "mov_titles = mov_titles.rename(columns = {0:'movie_id',2:'movie_title'})\n",
    "\n",
    "                \n",
    "list_1 = []\n",
    "with open('combined_data_1.txt', 'r') as f:\n",
    "        for line in f:\n",
    "            splitLine = line.split('/t')\n",
    "            for item in splitLine:\n",
    "                list_1.append(splitLine)\n",
    "                \n",
    "# Then we needed a way to loop through and associate movie id with each record. So we append it back to the list_1\n",
    "for x in list_1:\n",
    "    for i in x:\n",
    "        if ':' in i:\n",
    "            a = len(i)\n",
    "            y2 = i[0:a]\n",
    "            y = y2.replace(\":\", \"\")\n",
    "    x.append(y)\n",
    "\n",
    "\n",
    "# In this section we want to take everything in list_1 and split out the customer id, rating, and date better.\n",
    "keys = ['customer_id','customer_rating','date','movie_id']\n",
    "newList=[]\n",
    "\n",
    "for x in list_1:\n",
    "    movie_id = x[1]\n",
    "    y = x[0]\n",
    "    d = y.split(',')\n",
    "    d.append(movie_id)\n",
    "    newList.append(d)\n",
    "\n",
    "# Now that we have the structure by customer, how they rated the movie and all that jazz. \n",
    "# We need to get rid of the values in the list that are just the movie numbers.\n",
    "values = []\n",
    "for x in newList:\n",
    "    if len(x)==4:\n",
    "        values.append(x)\n",
    "        \n",
    "# Finally we can put it into a dataframe and start looking at our data.  \n",
    "df = pd.DataFrame(values, columns=keys)\n",
    "df = df.replace('\\n','', regex=True)\n",
    "df['date'] = df['date'].astype('datetime64[ns]')\n",
    "df['customer_rating'] = df['customer_rating'].astype('float')"
   ]
  },
  {
   "cell_type": "code",
   "execution_count": 2,
   "metadata": {
    "scrolled": true
   },
   "outputs": [],
   "source": [
    "'''\n",
    "In this cell, we do a left join of the ratings file and the movie titles file to replace movie id with the title of the movie.\n",
    "we will use the df3 dataframe later in the model to output movie titles.\n",
    "'''\n",
    "\n",
    "df_3 = df.join(mov_titles, lsuffix='movie_id', rsuffix='movie_id')\n",
    "df_3 = df_3.drop(columns=['movie_idmovie_id'], axis = 1)"
   ]
  },
  {
   "cell_type": "code",
   "execution_count": 21,
   "metadata": {},
   "outputs": [],
   "source": [
    "'''\n",
    "This section of code is to create functions to run our code. The PreProcess function takes a given customer id. Then it \n",
    "filters our dataset for the movies that customer rated. Then we get a list of just those movies and apply it back to \n",
    "the overall dataset. This way when we run a our model, the nearest neighbors aren't the ones with many 0's for ratings.\n",
    "From the PreProcessing function we receive a matrix to use with filtered values necessary for modeling.\n",
    "\n",
    "The matrix_prep function takes the processed matrix and groups it so that we get a nxm matrix where n are the customers\n",
    "and m are the movies they rated. If there is a movie a customer has not rated it gets a 0. The output is a sparse matrix \n",
    "with these results.\n",
    "\n",
    "Finally, the Recommendation function takes the sparse matrix from the matrix_prep function, the customer id, \n",
    "and how many neighbors you want your model to have. The model is a nearestneighbor model that caluclates the \n",
    "cosine similarity between the provided customer and the other customers that rated the at least one of the\n",
    "movies that the customer rated. \n",
    "\n",
    "Then we loop through the customers pulling out the similar customers and put this in a list. We then use this \n",
    "list to go back and filter for these customers movies that they rated a 4 or 5. Then we grab this list of movies\n",
    "and this is the list returned.\n",
    "'''\n",
    "\n",
    "def PreProcess(customer_id):\n",
    "    \n",
    "    query_index = str(customer_id) #np.random.choice(ddf_3.shape[0])\n",
    "    \n",
    "    customer = df[df['customer_id'] == query_index]\n",
    "\n",
    "    customer_movies = customer.loc[:, (customer != 0).any(axis = 0)]\n",
    "\n",
    "    movies_to_include = customer_movies['movie_id'].tolist()\n",
    "\n",
    "    mask = df['movie_id'].isin(movies_to_include)\n",
    "    movies_matrix_for_sim = df.loc[~mask]\n",
    "    \n",
    "    movies_matrix_for_sim = movies_matrix_for_sim.append(customer_movies, ignore_index=True)\n",
    "    \n",
    "    return movies_matrix_for_sim\n",
    "\n",
    "def matrix_prep(movies_matrix_for_sim):\n",
    "    \n",
    "    ddf_2 = movies_matrix_for_sim.groupby(['customer_id', 'movie_id']).customer_rating.mean().unstack(fill_value=0)\n",
    "    \n",
    "    \n",
    "    mat_features = csr_matrix(ddf_2.values)\n",
    "    \n",
    "    return mat_features\n",
    "\n",
    "    \n",
    "def Recommendation(mat_features, customer_id, n_neighbors):\n",
    "    \n",
    "    query_index = str(customer_id)\n",
    "\n",
    "    model_knn = NearestNeighbors(metric='cosine', algorithm='brute')\n",
    "    model_knn = model_knn.fit(mat_features)\n",
    "\n",
    "    distances, indices = model_knn.kneighbors(ddf_2.loc[[query_index]], n_neighbors = n_neighbors)\n",
    "\n",
    "    sim_customers_key = []\n",
    "    sim_customers_vals = []\n",
    "    for i in range(0, len(distances.flatten())):\n",
    "        if i == 0: \n",
    "            #key = ddf_2.index[customer_id]\n",
    "            #sim_customers_key.append(key)\n",
    "            pass\n",
    "        else: \n",
    "            val = ddf_2.index[indices.flatten()[i]]\n",
    "            sim_customers_vals.append(val)\n",
    "            \n",
    "    mask = df_3['customer_id'].isin(sim_customers_vals)\n",
    "    sim_customers = df_3.loc[~mask]\n",
    "    \n",
    "    #need orig customer to have filtered df_3 table\n",
    "    orig_customer = df_3[df_3['customer_id'] == query_index]\n",
    "    #mask = df_3['customer_id'].isin(sim_customers_key)\n",
    "    #orig_customer = df_3.loc[~mask]\n",
    "    \n",
    "    mask = sim_customers['customer_rating'].isin([4,5])\n",
    "    sim_customers = sim_customers.loc[~mask]\n",
    "    \n",
    "    orig_movies = orig_customer['movie_title'].values\n",
    "    sim_movies = sim_customers['movie_title'].values\n",
    "    \n",
    "    rec_list = [i for i in sim_movies if i not in orig_movies]\n",
    "    \n",
    "    return rec_list\n",
    "    "
   ]
  },
  {
   "cell_type": "code",
   "execution_count": 4,
   "metadata": {
    "scrolled": false
   },
   "outputs": [],
   "source": [
    "'''\n",
    "This is implementing the PreProcess function for customer 1488844.\n",
    "'''\n",
    "\n",
    "matrix_1 = PreProcess(1488844)\n"
   ]
  },
  {
   "cell_type": "code",
   "execution_count": 5,
   "metadata": {},
   "outputs": [],
   "source": [
    "'''\n",
    "Due to memory issues I could not run matrix_prep with the two function in it. Thus I ran them separately.\n",
    "This is the first part of the matrix_prep function.\n",
    "'''\n",
    "\n",
    "ddf_2 = matrix_1.groupby(['customer_id', 'movie_id']).customer_rating.mean().unstack(fill_value=0)"
   ]
  },
  {
   "cell_type": "code",
   "execution_count": 6,
   "metadata": {},
   "outputs": [],
   "source": [
    "'''\n",
    "Due to memory issues I could not run matrix_prep with the two function in it. Thus I ran them separately.\n",
    "This is the second part of the matrix_prep function.\n",
    "'''\n",
    "\n",
    "mat_features = csr_matrix(ddf_2.values)"
   ]
  },
  {
   "cell_type": "code",
   "execution_count": 23,
   "metadata": {},
   "outputs": [],
   "source": [
    "'''\n",
    "This is the final function running the model and saving the results for customer 1488844 with 3 neighbors.\n",
    "'''\n",
    "\n",
    "recommended_for_1488844 = Recommendation(mat_features,1488844, 3)"
   ]
  },
  {
   "cell_type": "code",
   "execution_count": 26,
   "metadata": {},
   "outputs": [
    {
     "data": {
      "text/plain": [
       "['The Rise and Fall of ECW',\n",
       " 'Sick',\n",
       " 'What the #$*! Do We Know!?',\n",
       " 'Fighter',\n",
       " 'Lord of the Rings: The Return of the King: Extended Edition: Bonus Material',\n",
       " 'Nature: Antarctica',\n",
       " 'Immortal Beloved',\n",
       " 'Strange Relations',\n",
       " 'Chump Change',\n",
       " 'Inspector Morse 31: Death Is Now My Neighbour']"
      ]
     },
     "execution_count": 26,
     "metadata": {},
     "output_type": "execute_result"
    }
   ],
   "source": [
    "'''\n",
    "This is the firt 10 recommended movies for customer 1488844.\n",
    "'''\n",
    "\n",
    "recommended_for_1488844[0:10]"
   ]
  }
 ],
 "metadata": {
  "kernelspec": {
   "display_name": "Python 3",
   "language": "python",
   "name": "python3"
  },
  "language_info": {
   "codemirror_mode": {
    "name": "ipython",
    "version": 3
   },
   "file_extension": ".py",
   "mimetype": "text/x-python",
   "name": "python",
   "nbconvert_exporter": "python",
   "pygments_lexer": "ipython3",
   "version": "3.7.1"
  }
 },
 "nbformat": 4,
 "nbformat_minor": 2
}
