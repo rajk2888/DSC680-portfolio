{
 "cells": [
  {
   "cell_type": "markdown",
   "metadata": {},
   "source": [
    "### Assignment 1.3 - R Refresher\n",
    "\n",
    "The first assignment is a review of R. The purpose of this assignment is to provide a refresher of R and python. The assignment is divided into three sections.\n",
    "\n",
    "**1. Import, Plot, Summarize, and Save Data**\n",
    "\n",
    "Using the [Bureau of Labor Statistics data](https://www.bls.gov/data/), choose a dataset that interest you. Then generate summary statistics for 2 variables, plot some of the features (e.g., histograms, box plots, density plots, etc.) of several variables, and save the data locally as CSV files.\n",
    "\n",
    "**2. Explore Some Bivariate Relations**\n",
    "\n",
    "Use the same dataset within the same website to explore some bivariate relations (e.g. bivariate plot, correlation, table cross table etc.)\n",
    "\n",
    "**3. Organize a Data Report**\n",
    "\n",
    "Generate a summary report. Make sure to include: summary for every variable, structure and type of data elements, discuss four results of your data."
   ]
  },
  {
   "cell_type": "markdown",
   "metadata": {},
   "source": [
    "Since one dataset was not enough, I have used the following files from the assignment link:\n",
    "\n",
    "American Time Use Survey\n",
    "-  Avg hrs per day - Household activities (includes travel), Men - TUU10101AA01009497\n",
    "- Avg hrs per day - Household activities (includes travel), Women - TUU10101AA01009613"
   ]
  },
  {
   "cell_type": "code",
   "execution_count": 1,
   "metadata": {},
   "outputs": [
    {
     "ename": "SyntaxError",
     "evalue": "invalid syntax (<ipython-input-1-9982293ddb31>, line 7)",
     "output_type": "error",
     "traceback": [
      "\u001b[1;36m  File \u001b[1;32m\"<ipython-input-1-9982293ddb31>\"\u001b[1;36m, line \u001b[1;32m7\u001b[0m\n\u001b[1;33m    preparetext <- function(path, index, datarow){\u001b[0m\n\u001b[1;37m                                                 ^\u001b[0m\n\u001b[1;31mSyntaxError\u001b[0m\u001b[1;31m:\u001b[0m invalid syntax\n"
     ]
    }
   ],
   "source": [
    "library('magrittr') \n",
    "\n",
    "file1 <- 'data/SeriesReport-20190604000331_2e6597.xlsx'\n",
    "file2 <- 'data/SeriesReport-20190604000335_96a2f0.xlsx'\n",
    "\n",
    "# function to read and prepare data for analysis\n",
    "preparetext <- function(path, index, datarow){\n",
    "\n",
    "  # read excel data file\n",
    "  df <- xlsx::read.xlsx(path,\n",
    "                        sheetIndex = index,\n",
    "                        stringsAsFactors = FALSE)\n",
    "  \n",
    "  # store value for gender (to be added later)\n",
    "  gender <- df %>% \n",
    "    dplyr::filter(.[,1]=='Gender:') %>% \n",
    "    as.character() %>% \n",
    "    .[2]\n",
    "  \n",
    "  # store value for type (to be added later)\n",
    "  type <- df %>% \n",
    "    dplyr::filter(.[,1]=='Type of estimate:') %>% \n",
    "    as.character() %>% \n",
    "    .[2]\n",
    "  \n",
    "  # store value for activity (to be added later)\n",
    "  activity <- df %>% \n",
    "    dplyr::filter(.[,1]=='Activity:') %>% \n",
    "    as.character() %>% \n",
    "    .[2]\n",
    "  \n",
    "  # remove redundant rows\n",
    "  df <- df %>% \n",
    "    dplyr::slice(datarow:nrow(.))\n",
    "  \n",
    "  # set first row as column name and remove first row\n",
    "  colnames(df) <- as.character(unlist(df[1,]))\n",
    "  df <- df[-1, ]\n",
    "  \n",
    "  # add subsequent data\n",
    "  df <- df %>% \n",
    "    dplyr::mutate(Gender = gender,\n",
    "                  Type = type,\n",
    "                  Activity = activity)\n",
    "  \n",
    "  return(df)\n",
    "}"
   ]
  },
  {
   "cell_type": "code",
   "execution_count": 21,
   "metadata": {},
   "outputs": [],
   "source": [
    "# merge the two data files to create one file for Household Time Use data\n",
    "timeuse <- preparetext(file1, 1, 11) %>% \n",
    "  dplyr::bind_rows(preparetext(file2, 1, 11)) %>% \n",
    "  dplyr::mutate(Estimate = as.numeric(Estimate),\n",
    "                `Standard Error` = as.numeric(`Standard Error`))"
   ]
  },
  {
   "cell_type": "markdown",
   "metadata": {},
   "source": [
    "First I want to check the structure of the data frame"
   ]
  },
  {
   "cell_type": "code",
   "execution_count": 9,
   "metadata": {},
   "outputs": [
    {
     "name": "stdout",
     "output_type": "stream",
     "text": [
      "'data.frame':\t22 obs. of  7 variables:\n",
      " $ Year          : chr  \"2007\" \"2008\" \"2009\" \"2010\" ...\n",
      " $ Period        : chr  \"Annual\" \"Annual\" \"Annual\" \"Annual\" ...\n",
      " $ Estimate      : num  1.43 1.3 1.33 1.42 1.37 1.29 1.34 1.38 1.43 1.38 ...\n",
      " $ Standard Error: num  0.033 0.033 0.03 0.037 0.028 0.031 0.033 0.036 0.04 0.034 ...\n",
      " $ Gender        : chr  \"Men\" \"Men\" \"Men\" \"Men\" ...\n",
      " $ Type          : chr  \"Average hours per day\" \"Average hours per day\" \"Average hours per day\" \"Average hours per day\" ...\n",
      " $ Activity      : chr  \"Household activities (includes travel)\" \"Household activities (includes travel)\" \"Household activities (includes travel)\" \"Household activities (includes travel)\" ...\n"
     ]
    }
   ],
   "source": [
    "str(timeuse)"
   ]
  },
  {
   "cell_type": "markdown",
   "metadata": {},
   "source": [
    "I will run a summary statistics and store it in a variable to report data in step 3."
   ]
  },
  {
   "cell_type": "code",
   "execution_count": 46,
   "metadata": {},
   "outputs": [],
   "source": [
    "    # Suppressing unnecessary warnings\n",
    "    options(warn=-1)\n",
    "\n",
    "    # Check data quality and basic statistics\n",
    "    stats  <- psych::describe(timeuse)\n",
    "\n",
    "    # Check detail descriptive statistics\n",
    "    stats_detail  <- Hmisc::describe(timeuse)"
   ]
  },
  {
   "cell_type": "markdown",
   "metadata": {},
   "source": [
    "Looks like there are 2 continous variables, Estimate and Standard Error. Rest of the 5 variables are discrete. I would like to create some basic plots for the 2 continous variables."
   ]
  },
  {
   "cell_type": "code",
   "execution_count": 15,
   "metadata": {
    "scrolled": true
   },
   "outputs": [
    {
     "data": {
      "image/png": "[encoded data removed]",
      "text/plain": [
       "plot without title"
      ]
     },
     "metadata": {},
     "output_type": "display_data"
    }
   ],
   "source": [
    "# set output fogure size\n",
    "options(repr.plot.width = 4, repr.plot.height = 3)\n",
    "\n",
    "# Boxplot of the two continuous variables\n",
    "DataExplorer::plot_boxplot(timeuse, by = 'Estimate')"
   ]
  },
  {
   "cell_type": "code",
   "execution_count": 16,
   "metadata": {},
   "outputs": [
    {
     "data": {
      "image/png": "[encoded data removed]",
      "text/plain": [
       "plot without title"
      ]
     },
     "metadata": {},
     "output_type": "display_data"
    }
   ],
   "source": [
    "# Histogram of the continuous variables (Estimate and Standard Error)\n",
    "DataExplorer::plot_histogram(timeuse)"
   ]
  },
  {
   "cell_type": "code",
   "execution_count": 19,
   "metadata": {},
   "outputs": [
    {
     "data": {
      "image/png": "[encoded data removed]",
      "text/plain": [
       "Plot with title \"Density of Estimates\""
      ]
     },
     "metadata": {},
     "output_type": "display_data"
    }
   ],
   "source": [
    "# density plot of estimate\n",
    "par(mar=c(0,1,2,3))\n",
    "plot(density(timeuse$Estimate) , main='Density of Estimates' , xlab=\"\", ylim=c(0,2) , xaxt=\"n\", las=1 , col=\"slateblue1\" , lwd=4 )"
   ]
  },
  {
   "cell_type": "code",
   "execution_count": 20,
   "metadata": {
    "scrolled": false
   },
   "outputs": [
    {
     "name": "stderr",
     "output_type": "stream",
     "text": [
      "Warning message in chisq.test(t, correct = FALSE, ...):\n",
      "\"Chi-squared approximation may be incorrect\""
     ]
    },
    {
     "name": "stdout",
     "output_type": "stream",
     "text": [
      "\n",
      " \n",
      "   Cell Contents\n",
      "|-------------------------|\n",
      "|                       N |\n",
      "|              Expected N |\n",
      "| Chi-square contribution |\n",
      "|           N / Row Total |\n",
      "|           N / Col Total |\n",
      "|         N / Table Total |\n",
      "|-------------------------|\n",
      "\n",
      " \n",
      "Total Observations in Table:  22 \n",
      "\n",
      " \n",
      "                 | timeuse$`Standard Error` \n",
      "timeuse$Estimate |     0.028 |      0.03 |     0.031 |     0.033 |     0.034 |     0.035 |     0.036 |     0.037 |      0.04 |     0.046 | Row Total | \n",
      "-----------------|-----------|-----------|-----------|-----------|-----------|-----------|-----------|-----------|-----------|-----------|-----------|\n",
      "            1.29 |         0 |         0 |         1 |         0 |         0 |         0 |         0 |         0 |         0 |         0 |         1 | \n",
      "                 |     0.045 |     0.045 |     0.045 |     0.273 |     0.227 |     0.045 |     0.182 |     0.045 |     0.045 |     0.045 |           | \n",
      "                 |     0.045 |     0.045 |    20.045 |     0.273 |     0.227 |     0.045 |     0.182 |     0.045 |     0.045 |     0.045 |           | \n",
      "                 |     0.000 |     0.000 |     1.000 |     0.000 |     0.000 |     0.000 |     0.000 |     0.000 |     0.000 |     0.000 |     0.045 | \n",
      "                 |     0.000 |     0.000 |     1.000 |     0.000 |     0.000 |     0.000 |     0.000 |     0.000 |     0.000 |     0.000 |           | \n",
      "                 |     0.000 |     0.000 |     0.045 |     0.000 |     0.000 |     0.000 |     0.000 |     0.000 |     0.000 |     0.000 |           | \n",
      "-----------------|-----------|-----------|-----------|-----------|-----------|-----------|-----------|-----------|-----------|-----------|-----------|\n",
      "             1.3 |         0 |         0 |         0 |         1 |         0 |         0 |         0 |         0 |         0 |         0 |         1 | \n",
      "                 |     0.045 |     0.045 |     0.045 |     0.273 |     0.227 |     0.045 |     0.182 |     0.045 |     0.045 |     0.045 |           | \n",
      "                 |     0.045 |     0.045 |     0.045 |     1.939 |     0.227 |     0.045 |     0.182 |     0.045 |     0.045 |     0.045 |           | \n",
      "                 |     0.000 |     0.000 |     0.000 |     1.000 |     0.000 |     0.000 |     0.000 |     0.000 |     0.000 |     0.000 |     0.045 | \n",
      "                 |     0.000 |     0.000 |     0.000 |     0.167 |     0.000 |     0.000 |     0.000 |     0.000 |     0.000 |     0.000 |           | \n",
      "                 |     0.000 |     0.000 |     0.000 |     0.045 |     0.000 |     0.000 |     0.000 |     0.000 |     0.000 |     0.000 |           | \n",
      "-----------------|-----------|-----------|-----------|-----------|-----------|-----------|-----------|-----------|-----------|-----------|-----------|\n",
      "            1.33 |         0 |         1 |         0 |         0 |         0 |         0 |         0 |         0 |         0 |         0 |         1 | \n",
      "                 |     0.045 |     0.045 |     0.045 |     0.273 |     0.227 |     0.045 |     0.182 |     0.045 |     0.045 |     0.045 |           | \n",
      "                 |     0.045 |    20.045 |     0.045 |     0.273 |     0.227 |     0.045 |     0.182 |     0.045 |     0.045 |     0.045 |           | \n",
      "                 |     0.000 |     1.000 |     0.000 |     0.000 |     0.000 |     0.000 |     0.000 |     0.000 |     0.000 |     0.000 |     0.045 | \n",
      "                 |     0.000 |     1.000 |     0.000 |     0.000 |     0.000 |     0.000 |     0.000 |     0.000 |     0.000 |     0.000 |           | \n",
      "                 |     0.000 |     0.045 |     0.000 |     0.000 |     0.000 |     0.000 |     0.000 |     0.000 |     0.000 |     0.000 |           | \n",
      "-----------------|-----------|-----------|-----------|-----------|-----------|-----------|-----------|-----------|-----------|-----------|-----------|\n",
      "            1.34 |         0 |         0 |         0 |         1 |         0 |         0 |         0 |         0 |         0 |         0 |         1 | \n",
      "                 |     0.045 |     0.045 |     0.045 |     0.273 |     0.227 |     0.045 |     0.182 |     0.045 |     0.045 |     0.045 |           | \n",
      "                 |     0.045 |     0.045 |     0.045 |     1.939 |     0.227 |     0.045 |     0.182 |     0.045 |     0.045 |     0.045 |           | \n",
      "                 |     0.000 |     0.000 |     0.000 |     1.000 |     0.000 |     0.000 |     0.000 |     0.000 |     0.000 |     0.000 |     0.045 | \n",
      "                 |     0.000 |     0.000 |     0.000 |     0.167 |     0.000 |     0.000 |     0.000 |     0.000 |     0.000 |     0.000 |           | \n",
      "                 |     0.000 |     0.000 |     0.000 |     0.045 |     0.000 |     0.000 |     0.000 |     0.000 |     0.000 |     0.000 |           | \n",
      "-----------------|-----------|-----------|-----------|-----------|-----------|-----------|-----------|-----------|-----------|-----------|-----------|\n",
      "            1.37 |         1 |         0 |         0 |         0 |         0 |         0 |         0 |         0 |         0 |         0 |         1 | \n",
      "                 |     0.045 |     0.045 |     0.045 |     0.273 |     0.227 |     0.045 |     0.182 |     0.045 |     0.045 |     0.045 |           | \n",
      "                 |    20.045 |     0.045 |     0.045 |     0.273 |     0.227 |     0.045 |     0.182 |     0.045 |     0.045 |     0.045 |           | \n",
      "                 |     1.000 |     0.000 |     0.000 |     0.000 |     0.000 |     0.000 |     0.000 |     0.000 |     0.000 |     0.000 |     0.045 | \n",
      "                 |     1.000 |     0.000 |     0.000 |     0.000 |     0.000 |     0.000 |     0.000 |     0.000 |     0.000 |     0.000 |           | \n",
      "                 |     0.045 |     0.000 |     0.000 |     0.000 |     0.000 |     0.000 |     0.000 |     0.000 |     0.000 |     0.000 |           | \n",
      "-----------------|-----------|-----------|-----------|-----------|-----------|-----------|-----------|-----------|-----------|-----------|-----------|\n",
      "            1.38 |         0 |         0 |         0 |         0 |         1 |         0 |         1 |         0 |         0 |         0 |         2 | \n",
      "                 |     0.091 |     0.091 |     0.091 |     0.545 |     0.455 |     0.091 |     0.364 |     0.091 |     0.091 |     0.091 |           | \n",
      "                 |     0.091 |     0.091 |     0.091 |     0.545 |     0.655 |     0.091 |     1.114 |     0.091 |     0.091 |     0.091 |           | \n",
      "                 |     0.000 |     0.000 |     0.000 |     0.000 |     0.500 |     0.000 |     0.500 |     0.000 |     0.000 |     0.000 |     0.091 | \n",
      "                 |     0.000 |     0.000 |     0.000 |     0.000 |     0.200 |     0.000 |     0.250 |     0.000 |     0.000 |     0.000 |           | \n",
      "                 |     0.000 |     0.000 |     0.000 |     0.000 |     0.045 |     0.000 |     0.045 |     0.000 |     0.000 |     0.000 |           | \n",
      "-----------------|-----------|-----------|-----------|-----------|-----------|-----------|-----------|-----------|-----------|-----------|-----------|\n",
      "            1.41 |         0 |         0 |         0 |         0 |         1 |         0 |         0 |         0 |         0 |         0 |         1 | \n",
      "                 |     0.045 |     0.045 |     0.045 |     0.273 |     0.227 |     0.045 |     0.182 |     0.045 |     0.045 |     0.045 |           | \n",
      "                 |     0.045 |     0.045 |     0.045 |     0.273 |     2.627 |     0.045 |     0.182 |     0.045 |     0.045 |     0.045 |           | \n",
      "                 |     0.000 |     0.000 |     0.000 |     0.000 |     1.000 |     0.000 |     0.000 |     0.000 |     0.000 |     0.000 |     0.045 | \n",
      "                 |     0.000 |     0.000 |     0.000 |     0.000 |     0.200 |     0.000 |     0.000 |     0.000 |     0.000 |     0.000 |           | \n",
      "                 |     0.000 |     0.000 |     0.000 |     0.000 |     0.045 |     0.000 |     0.000 |     0.000 |     0.000 |     0.000 |           | \n",
      "-----------------|-----------|-----------|-----------|-----------|-----------|-----------|-----------|-----------|-----------|-----------|-----------|\n",
      "            1.42 |         0 |         0 |         0 |         0 |         0 |         0 |         0 |         1 |         0 |         0 |         1 | \n",
      "                 |     0.045 |     0.045 |     0.045 |     0.273 |     0.227 |     0.045 |     0.182 |     0.045 |     0.045 |     0.045 |           | \n",
      "                 |     0.045 |     0.045 |     0.045 |     0.273 |     0.227 |     0.045 |     0.182 |    20.045 |     0.045 |     0.045 |           | \n",
      "                 |     0.000 |     0.000 |     0.000 |     0.000 |     0.000 |     0.000 |     0.000 |     1.000 |     0.000 |     0.000 |     0.045 | \n",
      "                 |     0.000 |     0.000 |     0.000 |     0.000 |     0.000 |     0.000 |     0.000 |     1.000 |     0.000 |     0.000 |           | \n",
      "                 |     0.000 |     0.000 |     0.000 |     0.000 |     0.000 |     0.000 |     0.000 |     0.045 |     0.000 |     0.000 |           | \n",
      "-----------------|-----------|-----------|-----------|-----------|-----------|-----------|-----------|-----------|-----------|-----------|-----------|\n",
      "            1.43 |         0 |         0 |         0 |         1 |         0 |         0 |         0 |         0 |         1 |         0 |         2 | \n",
      "                 |     0.091 |     0.091 |     0.091 |     0.545 |     0.455 |     0.091 |     0.364 |     0.091 |     0.091 |     0.091 |           | \n",
      "                 |     0.091 |     0.091 |     0.091 |     0.379 |     0.455 |     0.091 |     0.364 |     0.091 |     9.091 |     0.091 |           | \n",
      "                 |     0.000 |     0.000 |     0.000 |     0.500 |     0.000 |     0.000 |     0.000 |     0.000 |     0.500 |     0.000 |     0.091 | \n",
      "                 |     0.000 |     0.000 |     0.000 |     0.167 |     0.000 |     0.000 |     0.000 |     0.000 |     1.000 |     0.000 |           | \n",
      "                 |     0.000 |     0.000 |     0.000 |     0.045 |     0.000 |     0.000 |     0.000 |     0.000 |     0.045 |     0.000 |           | \n",
      "-----------------|-----------|-----------|-----------|-----------|-----------|-----------|-----------|-----------|-----------|-----------|-----------|\n",
      "            2.13 |         0 |         0 |         0 |         0 |         0 |         0 |         1 |         0 |         0 |         0 |         1 | \n",
      "                 |     0.045 |     0.045 |     0.045 |     0.273 |     0.227 |     0.045 |     0.182 |     0.045 |     0.045 |     0.045 |           | \n",
      "                 |     0.045 |     0.045 |     0.045 |     0.273 |     0.227 |     0.045 |     3.682 |     0.045 |     0.045 |     0.045 |           | \n",
      "                 |     0.000 |     0.000 |     0.000 |     0.000 |     0.000 |     0.000 |     1.000 |     0.000 |     0.000 |     0.000 |     0.045 | \n",
      "                 |     0.000 |     0.000 |     0.000 |     0.000 |     0.000 |     0.000 |     0.250 |     0.000 |     0.000 |     0.000 |           | \n",
      "                 |     0.000 |     0.000 |     0.000 |     0.000 |     0.000 |     0.000 |     0.045 |     0.000 |     0.000 |     0.000 |           | \n",
      "-----------------|-----------|-----------|-----------|-----------|-----------|-----------|-----------|-----------|-----------|-----------|-----------|\n",
      "            2.14 |         0 |         0 |         0 |         1 |         1 |         0 |         0 |         0 |         0 |         0 |         2 | \n",
      "                 |     0.091 |     0.091 |     0.091 |     0.545 |     0.455 |     0.091 |     0.364 |     0.091 |     0.091 |     0.091 |           | \n",
      "                 |     0.091 |     0.091 |     0.091 |     0.379 |     0.655 |     0.091 |     0.364 |     0.091 |     0.091 |     0.091 |           | \n",
      "                 |     0.000 |     0.000 |     0.000 |     0.500 |     0.500 |     0.000 |     0.000 |     0.000 |     0.000 |     0.000 |     0.091 | \n",
      "                 |     0.000 |     0.000 |     0.000 |     0.167 |     0.200 |     0.000 |     0.000 |     0.000 |     0.000 |     0.000 |           | \n",
      "                 |     0.000 |     0.000 |     0.000 |     0.045 |     0.045 |     0.000 |     0.000 |     0.000 |     0.000 |     0.000 |           | \n",
      "-----------------|-----------|-----------|-----------|-----------|-----------|-----------|-----------|-----------|-----------|-----------|-----------|\n",
      "            2.16 |         0 |         0 |         0 |         1 |         0 |         0 |         0 |         0 |         0 |         0 |         1 | \n",
      "                 |     0.045 |     0.045 |     0.045 |     0.273 |     0.227 |     0.045 |     0.182 |     0.045 |     0.045 |     0.045 |           | \n",
      "                 |     0.045 |     0.045 |     0.045 |     1.939 |     0.227 |     0.045 |     0.182 |     0.045 |     0.045 |     0.045 |           | \n",
      "                 |     0.000 |     0.000 |     0.000 |     1.000 |     0.000 |     0.000 |     0.000 |     0.000 |     0.000 |     0.000 |     0.045 | \n",
      "                 |     0.000 |     0.000 |     0.000 |     0.167 |     0.000 |     0.000 |     0.000 |     0.000 |     0.000 |     0.000 |           | \n",
      "                 |     0.000 |     0.000 |     0.000 |     0.045 |     0.000 |     0.000 |     0.000 |     0.000 |     0.000 |     0.000 |           | \n",
      "-----------------|-----------|-----------|-----------|-----------|-----------|-----------|-----------|-----------|-----------|-----------|-----------|\n",
      "            2.17 |         0 |         0 |         0 |         0 |         0 |         1 |         0 |         0 |         0 |         0 |         1 | \n",
      "                 |     0.045 |     0.045 |     0.045 |     0.273 |     0.227 |     0.045 |     0.182 |     0.045 |     0.045 |     0.045 |           | \n",
      "                 |     0.045 |     0.045 |     0.045 |     0.273 |     0.227 |    20.045 |     0.182 |     0.045 |     0.045 |     0.045 |           | \n",
      "                 |     0.000 |     0.000 |     0.000 |     0.000 |     0.000 |     1.000 |     0.000 |     0.000 |     0.000 |     0.000 |     0.045 | \n",
      "                 |     0.000 |     0.000 |     0.000 |     0.000 |     0.000 |     1.000 |     0.000 |     0.000 |     0.000 |     0.000 |           | \n",
      "                 |     0.000 |     0.000 |     0.000 |     0.000 |     0.000 |     0.045 |     0.000 |     0.000 |     0.000 |     0.000 |           | \n",
      "-----------------|-----------|-----------|-----------|-----------|-----------|-----------|-----------|-----------|-----------|-----------|-----------|\n",
      "            2.19 |         0 |         0 |         0 |         0 |         0 |         0 |         1 |         0 |         0 |         1 |         2 | \n",
      "                 |     0.091 |     0.091 |     0.091 |     0.545 |     0.455 |     0.091 |     0.364 |     0.091 |     0.091 |     0.091 |           | \n",
      "                 |     0.091 |     0.091 |     0.091 |     0.545 |     0.455 |     0.091 |     1.114 |     0.091 |     0.091 |     9.091 |           | \n",
      "                 |     0.000 |     0.000 |     0.000 |     0.000 |     0.000 |     0.000 |     0.500 |     0.000 |     0.000 |     0.500 |     0.091 | \n",
      "                 |     0.000 |     0.000 |     0.000 |     0.000 |     0.000 |     0.000 |     0.250 |     0.000 |     0.000 |     1.000 |           | \n",
      "                 |     0.000 |     0.000 |     0.000 |     0.000 |     0.000 |     0.000 |     0.045 |     0.000 |     0.000 |     0.045 |           | \n",
      "-----------------|-----------|-----------|-----------|-----------|-----------|-----------|-----------|-----------|-----------|-----------|-----------|\n",
      "            2.22 |         0 |         0 |         0 |         0 |         1 |         0 |         0 |         0 |         0 |         0 |         1 | \n",
      "                 |     0.045 |     0.045 |     0.045 |     0.273 |     0.227 |     0.045 |     0.182 |     0.045 |     0.045 |     0.045 |           | \n",
      "                 |     0.045 |     0.045 |     0.045 |     0.273 |     2.627 |     0.045 |     0.182 |     0.045 |     0.045 |     0.045 |           | \n",
      "                 |     0.000 |     0.000 |     0.000 |     0.000 |     1.000 |     0.000 |     0.000 |     0.000 |     0.000 |     0.000 |     0.045 | \n",
      "                 |     0.000 |     0.000 |     0.000 |     0.000 |     0.200 |     0.000 |     0.000 |     0.000 |     0.000 |     0.000 |           | \n",
      "                 |     0.000 |     0.000 |     0.000 |     0.000 |     0.045 |     0.000 |     0.000 |     0.000 |     0.000 |     0.000 |           | \n",
      "-----------------|-----------|-----------|-----------|-----------|-----------|-----------|-----------|-----------|-----------|-----------|-----------|\n",
      "            2.23 |         0 |         0 |         0 |         1 |         0 |         0 |         0 |         0 |         0 |         0 |         1 | \n",
      "                 |     0.045 |     0.045 |     0.045 |     0.273 |     0.227 |     0.045 |     0.182 |     0.045 |     0.045 |     0.045 |           | \n",
      "                 |     0.045 |     0.045 |     0.045 |     1.939 |     0.227 |     0.045 |     0.182 |     0.045 |     0.045 |     0.045 |           | \n",
      "                 |     0.000 |     0.000 |     0.000 |     1.000 |     0.000 |     0.000 |     0.000 |     0.000 |     0.000 |     0.000 |     0.045 | \n",
      "                 |     0.000 |     0.000 |     0.000 |     0.167 |     0.000 |     0.000 |     0.000 |     0.000 |     0.000 |     0.000 |           | \n",
      "                 |     0.000 |     0.000 |     0.000 |     0.045 |     0.000 |     0.000 |     0.000 |     0.000 |     0.000 |     0.000 |           | \n",
      "-----------------|-----------|-----------|-----------|-----------|-----------|-----------|-----------|-----------|-----------|-----------|-----------|\n",
      "            2.24 |         0 |         0 |         0 |         0 |         1 |         0 |         1 |         0 |         0 |         0 |         2 | \n",
      "                 |     0.091 |     0.091 |     0.091 |     0.545 |     0.455 |     0.091 |     0.364 |     0.091 |     0.091 |     0.091 |           | \n",
      "                 |     0.091 |     0.091 |     0.091 |     0.545 |     0.655 |     0.091 |     1.114 |     0.091 |     0.091 |     0.091 |           | \n",
      "                 |     0.000 |     0.000 |     0.000 |     0.000 |     0.500 |     0.000 |     0.500 |     0.000 |     0.000 |     0.000 |     0.091 | \n",
      "                 |     0.000 |     0.000 |     0.000 |     0.000 |     0.200 |     0.000 |     0.250 |     0.000 |     0.000 |     0.000 |           | \n",
      "                 |     0.000 |     0.000 |     0.000 |     0.000 |     0.045 |     0.000 |     0.045 |     0.000 |     0.000 |     0.000 |           | \n",
      "-----------------|-----------|-----------|-----------|-----------|-----------|-----------|-----------|-----------|-----------|-----------|-----------|\n",
      "    Column Total |         1 |         1 |         1 |         6 |         5 |         1 |         4 |         1 |         1 |         1 |        22 | \n",
      "                 |     0.045 |     0.045 |     0.045 |     0.273 |     0.227 |     0.045 |     0.182 |     0.045 |     0.045 |     0.045 |           | \n",
      "-----------------|-----------|-----------|-----------|-----------|-----------|-----------|-----------|-----------|-----------|-----------|-----------|\n",
      "\n",
      " \n",
      "Statistics for All Table Factors\n",
      "\n",
      "\n",
      "Pearson's Chi-squared test \n",
      "------------------------------------------------------------\n",
      "Chi^2 =  157.4833     d.f. =  144     p =  0.208974 \n",
      "\n",
      "\n",
      " \n"
     ]
    }
   ],
   "source": [
    "# explore bivariate relationship using cross table\n",
    "gmodels::CrossTable(timeuse$Estimate, timeuse$`Standard Error`, expected = TRUE)"
   ]
  },
  {
   "cell_type": "markdown",
   "metadata": {},
   "source": [
    "`157.48` is a very high Chi value, meaning the data (Estimate and Standard Error) does not fit very well.\n",
    "\n",
    "The p-value is relatively large which indicates weak evidence against the null hypothesis, so we fail to reject the null hypothesis."
   ]
  },
  {
   "cell_type": "markdown",
   "metadata": {},
   "source": [
    "Now let us take a look at the descriptive statistics of the erntire dataset stored earlier."
   ]
  },
  {
   "cell_type": "code",
   "execution_count": 33,
   "metadata": {
    "scrolled": true
   },
   "outputs": [
    {
     "name": "stdout",
     "output_type": "stream",
     "text": [
      "timeuse \n",
      "\n",
      " 7  Variables      22  Observations\n",
      "--------------------------------------------------------------------------------\n",
      "Year \n",
      "       n  missing distinct \n",
      "      22        0       11 \n",
      "                                                                            \n",
      "Value       2007  2008  2009  2010  2011  2012  2013  2014  2015  2016  2017\n",
      "Frequency      2     2     2     2     2     2     2     2     2     2     2\n",
      "Proportion 0.091 0.091 0.091 0.091 0.091 0.091 0.091 0.091 0.091 0.091 0.091\n",
      "--------------------------------------------------------------------------------\n",
      "Period \n",
      "       n  missing distinct    value \n",
      "      22        0        1   Annual \n",
      "                 \n",
      "Value      Annual\n",
      "Frequency      22\n",
      "Proportion      1\n",
      "--------------------------------------------------------------------------------\n",
      "Estimate \n",
      "       n  missing distinct     Info     Mean      Gmd      .05      .10 \n",
      "      22        0       17    0.997    1.779   0.4531    1.302    1.331 \n",
      "     .25      .50      .75      .90      .95 \n",
      "   1.380    1.780    2.185    2.229    2.240 \n",
      "                                                                            \n",
      "Value       1.29  1.30  1.33  1.34  1.37  1.38  1.41  1.42  1.43  2.13  2.14\n",
      "Frequency      1     1     1     1     1     2     1     1     2     1     2\n",
      "Proportion 0.045 0.045 0.045 0.045 0.045 0.091 0.045 0.045 0.091 0.045 0.091\n",
      "                                              \n",
      "Value       2.16  2.17  2.19  2.22  2.23  2.24\n",
      "Frequency      1     1     2     1     1     2\n",
      "Proportion 0.045 0.045 0.091 0.045 0.045 0.091\n",
      "--------------------------------------------------------------------------------\n",
      "Standard Error \n",
      "       n  missing distinct     Info     Mean      Gmd      .05      .10 \n",
      "      22        0       10    0.963   0.0345 0.003606  0.03005  0.03120 \n",
      "     .25      .50      .75      .90      .95 \n",
      " 0.03300  0.03400  0.03600  0.03690  0.03985 \n",
      "                                                                      \n",
      "Value      0.028 0.030 0.031 0.033 0.034 0.035 0.036 0.037 0.040 0.046\n",
      "Frequency      1     1     1     6     5     1     4     1     1     1\n",
      "Proportion 0.045 0.045 0.045 0.273 0.227 0.045 0.182 0.045 0.045 0.045\n",
      "--------------------------------------------------------------------------------\n",
      "Gender \n",
      "       n  missing distinct \n",
      "      22        0        2 \n",
      "                      \n",
      "Value        Men Women\n",
      "Frequency     11    11\n",
      "Proportion   0.5   0.5\n",
      "--------------------------------------------------------------------------------\n",
      "Type \n",
      "                    n               missing              distinct \n",
      "                   22                     0                     1 \n",
      "                value \n",
      "Average hours per day \n",
      "                                \n",
      "Value      Average hours per day\n",
      "Frequency                     22\n",
      "Proportion                     1\n",
      "--------------------------------------------------------------------------------\n",
      "Activity \n",
      "                                     n                                missing \n",
      "                                    22                                      0 \n",
      "                              distinct                                  value \n",
      "                                     1 Household activities (includes travel) \n",
      "                                                 \n",
      "Value      Household activities (includes travel)\n",
      "Frequency                                      22\n",
      "Proportion                                      1\n",
      "--------------------------------------------------------------------------------\n"
     ]
    }
   ],
   "source": [
    "print(stats_detail)"
   ]
  },
  {
   "cell_type": "markdown",
   "metadata": {},
   "source": [
    "Analysis:\n",
    "\n",
    "**Year** - We have data between 2007-2017 and two instances for each year (Men/Women).\n",
    "\n",
    "**Period** - The period is a single value within tha dataset.\n",
    "\n",
    "**Estimate** - The estimate has somewhat even distribution which is not surprising given the data has men and women in equal proportion.\n",
    "\n",
    "**Standard Error** - Standard Error picks between 0.033, 0.034 and 0.036.\n",
    "\n",
    "**Gender** - The dataset has equal weightage on gender."
   ]
  },
  {
   "cell_type": "markdown",
   "metadata": {},
   "source": [
    "Since the summary descriptive statistics (`stats`) is generated as a dataframe, I would output that in an excel file. But first I want to check what is in it."
   ]
  },
  {
   "cell_type": "code",
   "execution_count": 47,
   "metadata": {
    "scrolled": true
   },
   "outputs": [
    {
     "name": "stdout",
     "output_type": "stream",
     "text": [
      "               vars  n    mean   sd  median trimmed  mad     min     max range\n",
      "Year*             1 22 2012.00 3.24 2012.00 2012.00 4.45 2007.00 2017.00 10.00\n",
      "Period*           2 22     NaN   NA      NA     NaN   NA     Inf    -Inf  -Inf\n",
      "Estimate          3 22    1.78 0.42    1.78    1.78 0.60    1.29    2.24  0.95\n",
      "Standard Error    4 22    0.03 0.00    0.03    0.03 0.00    0.03    0.05  0.02\n",
      "Gender*           5 22     NaN   NA      NA     NaN   NA     Inf    -Inf  -Inf\n",
      "Type*             6 22     NaN   NA      NA     NaN   NA     Inf    -Inf  -Inf\n",
      "Activity*         7 22     NaN   NA      NA     NaN   NA     Inf    -Inf  -Inf\n",
      "                skew kurtosis   se\n",
      "Year*           0.00    -1.38 0.69\n",
      "Period*           NA       NA   NA\n",
      "Estimate       -0.01    -2.05 0.09\n",
      "Standard Error  1.29     2.84 0.00\n",
      "Gender*           NA       NA   NA\n",
      "Type*             NA       NA   NA\n",
      "Activity*         NA       NA   NA\n"
     ]
    }
   ],
   "source": [
    "print(stats)"
   ]
  },
  {
   "cell_type": "markdown",
   "metadata": {},
   "source": [
    "* Looks like there are some division by zero error for the discrete variables. To show them correctly under the min/max statistics, I decided to replace them with 0. Since there is no `is.na` equivalent function in data frame for infinite values, I am applying the below function for replacement.\n",
    "\n",
    "* The variable names are converted into row names. I want to assign them tothe first column of the dataf frame."
   ]
  },
  {
   "cell_type": "code",
   "execution_count": 72,
   "metadata": {},
   "outputs": [
    {
     "name": "stdout",
     "output_type": "stream",
     "text": [
      "        variable vars  n        mean          sd   median      trimmed\n",
      "1          Year*    1 22 2012.000000 3.236694375 2012.000 2.012000e+03\n",
      "2        Period*    2 22         NaN          NA       NA          NaN\n",
      "3       Estimate    3 22    1.778636 0.419742500    1.780 1.781111e+00\n",
      "4 Standard Error    4 22    0.034500 0.003569047    0.034 3.416667e-02\n",
      "5        Gender*    5 22         NaN          NA       NA          NaN\n",
      "6          Type*    6 22         NaN          NA       NA          NaN\n",
      "7      Activity*    7 22         NaN          NA       NA          NaN\n",
      "        mad      min      max  range         skew  kurtosis           se\n",
      "1 4.4478000 2007.000 2017.000 10.000  0.000000000 -1.378140 0.6900655593\n",
      "2        NA       NA       NA     NA           NA        NA           NA\n",
      "3 0.6004530    1.290    2.240  0.950 -0.006265233 -2.046317 0.0894894017\n",
      "4 0.0014826    0.028    0.046  0.018  1.286764671  2.838131 0.0007609233\n",
      "5        NA       NA       NA     NA           NA        NA           NA\n",
      "6        NA       NA       NA     NA           NA        NA           NA\n",
      "7        NA       NA       NA     NA           NA        NA           NA\n"
     ]
    }
   ],
   "source": [
    "# Convert the row name to first column\n",
    "stats$variable <- rownames(stats)\n",
    "\n",
    "# Reorder the columns to show variable as the first column\n",
    "stats <- stats[c(14,1:13)]\n",
    "\n",
    "# Convert infinity to NA\n",
    "stats <- do.call(data.frame,lapply(stats, function(x) replace(x, is.infinite(x),NA)))\n",
    "\n",
    "print(stats)"
   ]
  },
  {
   "cell_type": "code",
   "execution_count": 74,
   "metadata": {},
   "outputs": [],
   "source": [
    "# save the descriptive statistics in an excel file\n",
    "xlsx::write.xlsx(stats, \n",
    "                 'output/Week1.3 Output.xlsx', \n",
    "                 sheetName = 'Descriptive Statistics',\n",
    "                 row.names = FALSE)"
   ]
  }
 ],
 "metadata": {
  "kernelspec": {
   "display_name": "Python 3",
   "language": "python",
   "name": "python3"
  },
  "language_info": {
   "codemirror_mode": {
    "name": "ipython",
    "version": 3
   },
   "file_extension": ".py",
   "mimetype": "text/x-python",
   "name": "python",
   "nbconvert_exporter": "python",
   "pygments_lexer": "ipython3",
   "version": "3.8.5"
  }
 },
 "nbformat": 4,
 "nbformat_minor": 2
}
