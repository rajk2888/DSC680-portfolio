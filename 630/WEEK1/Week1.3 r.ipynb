library('magrittr') 

file1 <- 'data/SeriesReport-20190604000331_2e6597.xlsx'
file2 <- 'data/SeriesReport-20190604000335_96a2f0.xlsx'

# function to read and prepare data for analysis
preparetext <- function(path, index, datarow){

  # read excel data file
  df <- xlsx::read.xlsx(path,
                        sheetIndex = index,
                        stringsAsFactors = FALSE)
  
  # store value for gender (to be added later)
  gender <- df %>% 
    dplyr::filter(.[,1]=='Gender:') %>% 
    as.character() %>% 
    .[2]
  
  # store value for type (to be added later)
  type <- df %>% 
    dplyr::filter(.[,1]=='Type of estimate:') %>% 
    as.character() %>% 
    .[2]
  
  # store value for activity (to be added later)
  activity <- df %>% 
    dplyr::filter(.[,1]=='Activity:') %>% 
    as.character() %>% 
    .[2]
  
  # remove redundant rows
  df <- df %>% 
    dplyr::slice(datarow:nrow(.))
  
  # set first row as column name and remove first row
  colnames(df) <- as.character(unlist(df[1,]))
  df <- df[-1, ]
  
  # add subsequent data
  df <- df %>% 
    dplyr::mutate(Gender = gender,
                  Type = type,
                  Activity = activity)
  
  return(df)
}