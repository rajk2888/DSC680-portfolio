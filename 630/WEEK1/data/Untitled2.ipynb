{
 "cells": [
  {
   "cell_type": "code",
   "execution_count": 7,
   "metadata": {},
   "outputs": [
    {
     "name": "stdout",
     "output_type": "stream",
     "text": [
      "          American Time Use  \\\n",
      "0       Original Data Value   \n",
      "1                       NaN   \n",
      "2                Series Id:   \n",
      "3   Not seasonally adjusted   \n",
      "4             Series Title:   \n",
      "5         Type of estimate:   \n",
      "6                 Activity:   \n",
      "7             Type of Days:   \n",
      "8                Age Group:   \n",
      "9                   Gender:   \n",
      "10                   Years:   \n",
      "11                      NaN   \n",
      "12                     Year   \n",
      "13                     2007   \n",
      "14                     2008   \n",
      "15                     2009   \n",
      "16                     2010   \n",
      "17                     2011   \n",
      "18                     2012   \n",
      "19                     2013   \n",
      "20                     2014   \n",
      "21                     2015   \n",
      "22                     2016   \n",
      "23                     2017   \n",
      "\n",
      "                                           Unnamed: 1 Unnamed: 2  \\\n",
      "0                                                 NaN        NaN   \n",
      "1                                                 NaN        NaN   \n",
      "2                                  TUU10101AA01009497        NaN   \n",
      "3                                                 NaN        NaN   \n",
      "4   Avg hrs per day - Household activities (includ...        NaN   \n",
      "5                               Average hours per day        NaN   \n",
      "6              Household activities (includes travel)        NaN   \n",
      "7                                            All days        NaN   \n",
      "8                                   15 years and over        NaN   \n",
      "9                                                 Men        NaN   \n",
      "10                                       2007 to 2017        NaN   \n",
      "11                                                NaN        NaN   \n",
      "12                                             Period   Estimate   \n",
      "13                                             Annual       1.43   \n",
      "14                                             Annual        1.3   \n",
      "15                                             Annual       1.33   \n",
      "16                                             Annual       1.42   \n",
      "17                                             Annual       1.37   \n",
      "18                                             Annual       1.29   \n",
      "19                                             Annual       1.34   \n",
      "20                                             Annual       1.38   \n",
      "21                                             Annual       1.43   \n",
      "22                                             Annual       1.38   \n",
      "23                                             Annual       1.41   \n",
      "\n",
      "        Unnamed: 3  Unnamed: 4  Unnamed: 5  \n",
      "0              NaN         NaN         NaN  \n",
      "1              NaN         NaN         NaN  \n",
      "2              NaN         NaN         NaN  \n",
      "3              NaN         NaN         NaN  \n",
      "4              NaN         NaN         NaN  \n",
      "5              NaN         NaN         NaN  \n",
      "6              NaN         NaN         NaN  \n",
      "7              NaN         NaN         NaN  \n",
      "8              NaN         NaN         NaN  \n",
      "9              NaN         NaN         NaN  \n",
      "10             NaN         NaN         NaN  \n",
      "11             NaN         NaN         NaN  \n",
      "12  Standard Error         NaN         NaN  \n",
      "13           0.033         NaN         NaN  \n",
      "14           0.033         NaN         NaN  \n",
      "15            0.03         NaN         NaN  \n",
      "16           0.037         NaN         NaN  \n",
      "17           0.028         NaN         NaN  \n",
      "18           0.031         NaN         NaN  \n",
      "19           0.033         NaN         NaN  \n",
      "20           0.036         NaN         NaN  \n",
      "21            0.04         NaN         NaN  \n",
      "22           0.034         NaN         NaN  \n",
      "23           0.034         NaN         NaN  \n"
     ]
    }
   ],
   "source": [
    "import pandas as pd\n",
    "\n",
    "df_A = pd.read_excel (r'C:\\Users\\Rkuppusami120932\\Desktop\\Assignment\\DSC-630\\WEEK1\\data\\SeriesReport-20190604000331_2e6597.xlsx', sheet_name='BLS Data Series')\n",
    "\n",
    "#df_B = pd.read_excel (r'Path where the Excel file is stored\\File name.xlsx', sheet_name='your Excel sheet name')\n",
    "print (df_A)\n",
    "\n",
    "#file1 <- 'C:/Users/Rkuppusami120932/Desktop/Assignment/DSC-630/WEEK1/data/SeriesReport-20190604000331_2e6597.xlsx'\n",
    "#file2 <- 'C:/Users/Rkuppusami120932/Desktop/Assignment/DSC-630/WEEK1/data/SeriesReport-20190604000335_96a2f0.xlsx'"
   ]
  },
  {
   "cell_type": "code",
   "execution_count": 12,
   "metadata": {},
   "outputs": [],
   "source": [
    "to_drop=['American Time Use']\n",
    "df_A.drop(to_drop, inplace=True, axis=1)"
   ]
  },
  {
   "cell_type": "code",
   "execution_count": 13,
   "metadata": {},
   "outputs": [
    {
     "data": {
      "text/plain": [
       "Index(['Unnamed: 1', 'Unnamed: 2', 'Unnamed: 3', 'Unnamed: 4', 'Unnamed: 5'], dtype='object')"
      ]
     },
     "execution_count": 13,
     "metadata": {},
     "output_type": "execute_result"
    }
   ],
   "source": [
    "df_A.columns"
   ]
  },
  {
   "cell_type": "code",
   "execution_count": 9,
   "metadata": {},
   "outputs": [
    {
     "data": {
      "text/plain": [
       "pandas.core.frame.DataFrame"
      ]
     },
     "execution_count": 9,
     "metadata": {},
     "output_type": "execute_result"
    }
   ],
   "source": [
    "type(df_A)"
   ]
  },
  {
   "cell_type": "code",
   "execution_count": 14,
   "metadata": {},
   "outputs": [
    {
     "name": "stdout",
     "output_type": "stream",
     "text": [
      "                                           Unnamed: 1 Unnamed: 2  \\\n",
      "0                                                 NaN        NaN   \n",
      "1                                                 NaN        NaN   \n",
      "2                                  TUU10101AA01009497        NaN   \n",
      "3                                                 NaN        NaN   \n",
      "4   Avg hrs per day - Household activities (includ...        NaN   \n",
      "5                               Average hours per day        NaN   \n",
      "6              Household activities (includes travel)        NaN   \n",
      "7                                            All days        NaN   \n",
      "8                                   15 years and over        NaN   \n",
      "9                                                 Men        NaN   \n",
      "10                                       2007 to 2017        NaN   \n",
      "11                                                NaN        NaN   \n",
      "12                                             Period   Estimate   \n",
      "13                                             Annual       1.43   \n",
      "14                                             Annual        1.3   \n",
      "15                                             Annual       1.33   \n",
      "16                                             Annual       1.42   \n",
      "17                                             Annual       1.37   \n",
      "18                                             Annual       1.29   \n",
      "19                                             Annual       1.34   \n",
      "20                                             Annual       1.38   \n",
      "21                                             Annual       1.43   \n",
      "22                                             Annual       1.38   \n",
      "23                                             Annual       1.41   \n",
      "\n",
      "        Unnamed: 3  Unnamed: 4  Unnamed: 5  \n",
      "0              NaN         NaN         NaN  \n",
      "1              NaN         NaN         NaN  \n",
      "2              NaN         NaN         NaN  \n",
      "3              NaN         NaN         NaN  \n",
      "4              NaN         NaN         NaN  \n",
      "5              NaN         NaN         NaN  \n",
      "6              NaN         NaN         NaN  \n",
      "7              NaN         NaN         NaN  \n",
      "8              NaN         NaN         NaN  \n",
      "9              NaN         NaN         NaN  \n",
      "10             NaN         NaN         NaN  \n",
      "11             NaN         NaN         NaN  \n",
      "12  Standard Error         NaN         NaN  \n",
      "13           0.033         NaN         NaN  \n",
      "14           0.033         NaN         NaN  \n",
      "15            0.03         NaN         NaN  \n",
      "16           0.037         NaN         NaN  \n",
      "17           0.028         NaN         NaN  \n",
      "18           0.031         NaN         NaN  \n",
      "19           0.033         NaN         NaN  \n",
      "20           0.036         NaN         NaN  \n",
      "21            0.04         NaN         NaN  \n",
      "22           0.034         NaN         NaN  \n",
      "23           0.034         NaN         NaN  \n"
     ]
    }
   ],
   "source": [
    "print(df_A)"
   ]
  },
  {
   "cell_type": "code",
   "execution_count": null,
   "metadata": {},
   "outputs": [],
   "source": []
  }
 ],
 "metadata": {
  "kernelspec": {
   "display_name": "Python 3",
   "language": "python",
   "name": "python3"
  },
  "language_info": {
   "codemirror_mode": {
    "name": "ipython",
    "version": 3
   },
   "file_extension": ".py",
   "mimetype": "text/x-python",
   "name": "python",
   "nbconvert_exporter": "python",
   "pygments_lexer": "ipython3",
   "version": "3.8.5"
  }
 },
 "nbformat": 4,
 "nbformat_minor": 4
}
