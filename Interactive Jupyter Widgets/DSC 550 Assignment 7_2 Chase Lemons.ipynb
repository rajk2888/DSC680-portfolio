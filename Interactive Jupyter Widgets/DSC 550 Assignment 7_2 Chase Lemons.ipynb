{
 "cells": [
  {
   "cell_type": "markdown",
   "metadata": {},
   "source": [
    "# DSC 550 Assignment 7.2\n",
    "## Chase Lemons\n",
    "\n",
    "In this exercise, you will create a command line interactive movie recommender system. Your program will ask the user to rate ten movies and recommend other movies they might like by finding users with similar tastes in movies and recommending movies they rated highly. This technique is often called collaborative filtering.\n",
    "\n",
    "You can find the data for this exercise in the movielens folder. You will need the movies.csv and ratings.csv files to complete this assignment."
   ]
  },
  {
   "cell_type": "code",
   "execution_count": 2,
   "metadata": {},
   "outputs": [],
   "source": [
    "import pandas as pd\n",
    "import numpy as np"
   ]
  },
  {
   "cell_type": "code",
   "execution_count": 20,
   "metadata": {},
   "outputs": [
    {
     "name": "stdout",
     "output_type": "stream",
     "text": [
      "Requirement already satisfied: ipywidgets in c:\\users\\c12003\\appdata\\local\\continuum\\anaconda3\\lib\\site-packages (7.4.2)\n",
      "Requirement already satisfied: ipykernel>=4.5.1 in c:\\users\\c12003\\appdata\\local\\continuum\\anaconda3\\lib\\site-packages (from ipywidgets) (5.1.0)\n",
      "Requirement already satisfied: widgetsnbextension~=3.4.0 in c:\\users\\c12003\\appdata\\local\\continuum\\anaconda3\\lib\\site-packages (from ipywidgets) (3.4.2)\n",
      "Requirement already satisfied: traitlets>=4.3.1 in c:\\users\\c12003\\appdata\\local\\continuum\\anaconda3\\lib\\site-packages (from ipywidgets) (4.3.2)\n",
      "Requirement already satisfied: ipython>=4.0.0; python_version >= \"3.3\" in c:\\users\\c12003\\appdata\\local\\continuum\\anaconda3\\lib\\site-packages (from ipywidgets) (7.2.0)\n",
      "Requirement already satisfied: nbformat>=4.2.0 in c:\\users\\c12003\\appdata\\local\\continuum\\anaconda3\\lib\\site-packages (from ipywidgets) (4.4.0)\n",
      "Requirement already satisfied: tornado>=4.2 in c:\\users\\c12003\\appdata\\local\\continuum\\anaconda3\\lib\\site-packages (from ipykernel>=4.5.1->ipywidgets) (5.1.1)\n",
      "Requirement already satisfied: jupyter-client in c:\\users\\c12003\\appdata\\local\\continuum\\anaconda3\\lib\\site-packages (from ipykernel>=4.5.1->ipywidgets) (5.2.4)\n",
      "Requirement already satisfied: notebook>=4.4.1 in c:\\users\\c12003\\appdata\\local\\continuum\\anaconda3\\lib\\site-packages (from widgetsnbextension~=3.4.0->ipywidgets) (5.7.4)\n",
      "Requirement already satisfied: six in c:\\users\\c12003\\appdata\\local\\continuum\\anaconda3\\lib\\site-packages (from traitlets>=4.3.1->ipywidgets) (1.12.0)\n",
      "Requirement already satisfied: decorator in c:\\users\\c12003\\appdata\\local\\continuum\\anaconda3\\lib\\site-packages (from traitlets>=4.3.1->ipywidgets) (4.3.0)\n",
      "Requirement already satisfied: ipython-genutils in c:\\users\\c12003\\appdata\\local\\continuum\\anaconda3\\lib\\site-packages (from traitlets>=4.3.1->ipywidgets) (0.2.0)\n",
      "Requirement already satisfied: pygments in c:\\users\\c12003\\appdata\\local\\continuum\\anaconda3\\lib\\site-packages (from ipython>=4.0.0; python_version >= \"3.3\"->ipywidgets) (2.3.1)\n",
      "Requirement already satisfied: backcall in c:\\users\\c12003\\appdata\\local\\continuum\\anaconda3\\lib\\site-packages (from ipython>=4.0.0; python_version >= \"3.3\"->ipywidgets) (0.1.0)\n",
      "Requirement already satisfied: pickleshare in c:\\users\\c12003\\appdata\\local\\continuum\\anaconda3\\lib\\site-packages (from ipython>=4.0.0; python_version >= \"3.3\"->ipywidgets) (0.7.5)\n",
      "Requirement already satisfied: jedi>=0.10 in c:\\users\\c12003\\appdata\\local\\continuum\\anaconda3\\lib\\site-packages (from ipython>=4.0.0; python_version >= \"3.3\"->ipywidgets) (0.13.2)\n",
      "Requirement already satisfied: colorama; sys_platform == \"win32\" in c:\\users\\c12003\\appdata\\local\\continuum\\anaconda3\\lib\\site-packages (from ipython>=4.0.0; python_version >= \"3.3\"->ipywidgets) (0.4.1)\n",
      "Requirement already satisfied: prompt-toolkit<2.1.0,>=2.0.0 in c:\\users\\c12003\\appdata\\local\\continuum\\anaconda3\\lib\\site-packages (from ipython>=4.0.0; python_version >= \"3.3\"->ipywidgets) (2.0.7)\n",
      "Requirement already satisfied: setuptools>=18.5 in c:\\users\\c12003\\appdata\\local\\continuum\\anaconda3\\lib\\site-packages (from ipython>=4.0.0; python_version >= \"3.3\"->ipywidgets) (40.6.3)\n",
      "Requirement already satisfied: jupyter-core in c:\\users\\c12003\\appdata\\local\\continuum\\anaconda3\\lib\\site-packages (from nbformat>=4.2.0->ipywidgets) (4.4.0)\n",
      "Requirement already satisfied: jsonschema!=2.5.0,>=2.4 in c:\\users\\c12003\\appdata\\local\\continuum\\anaconda3\\lib\\site-packages (from nbformat>=4.2.0->ipywidgets) (2.6.0)\n",
      "Requirement already satisfied: pyzmq>=13 in c:\\users\\c12003\\appdata\\local\\continuum\\anaconda3\\lib\\site-packages (from jupyter-client->ipykernel>=4.5.1->ipywidgets) (17.1.2)\n",
      "Requirement already satisfied: python-dateutil>=2.1 in c:\\users\\c12003\\appdata\\local\\continuum\\anaconda3\\lib\\site-packages (from jupyter-client->ipykernel>=4.5.1->ipywidgets) (2.7.5)\n",
      "Requirement already satisfied: terminado>=0.8.1 in c:\\users\\c12003\\appdata\\local\\continuum\\anaconda3\\lib\\site-packages (from notebook>=4.4.1->widgetsnbextension~=3.4.0->ipywidgets) (0.8.1)\n",
      "Requirement already satisfied: jinja2 in c:\\users\\c12003\\appdata\\local\\continuum\\anaconda3\\lib\\site-packages (from notebook>=4.4.1->widgetsnbextension~=3.4.0->ipywidgets) (2.10)\n",
      "Requirement already satisfied: nbconvert in c:\\users\\c12003\\appdata\\local\\continuum\\anaconda3\\lib\\site-packages (from notebook>=4.4.1->widgetsnbextension~=3.4.0->ipywidgets) (5.4.0)\n",
      "Requirement already satisfied: prometheus-client in c:\\users\\c12003\\appdata\\local\\continuum\\anaconda3\\lib\\site-packages (from notebook>=4.4.1->widgetsnbextension~=3.4.0->ipywidgets) (0.5.0)\n",
      "Requirement already satisfied: Send2Trash in c:\\users\\c12003\\appdata\\local\\continuum\\anaconda3\\lib\\site-packages (from notebook>=4.4.1->widgetsnbextension~=3.4.0->ipywidgets) (1.5.0)\n",
      "Requirement already satisfied: parso>=0.3.0 in c:\\users\\c12003\\appdata\\local\\continuum\\anaconda3\\lib\\site-packages (from jedi>=0.10->ipython>=4.0.0; python_version >= \"3.3\"->ipywidgets) (0.3.1)\n",
      "Requirement already satisfied: wcwidth in c:\\users\\c12003\\appdata\\local\\continuum\\anaconda3\\lib\\site-packages (from prompt-toolkit<2.1.0,>=2.0.0->ipython>=4.0.0; python_version >= \"3.3\"->ipywidgets) (0.1.7)\n",
      "Requirement already satisfied: MarkupSafe>=0.23 in c:\\users\\c12003\\appdata\\local\\continuum\\anaconda3\\lib\\site-packages (from jinja2->notebook>=4.4.1->widgetsnbextension~=3.4.0->ipywidgets) (1.1.0)\n",
      "Requirement already satisfied: mistune>=0.8.1 in c:\\users\\c12003\\appdata\\local\\continuum\\anaconda3\\lib\\site-packages (from nbconvert->notebook>=4.4.1->widgetsnbextension~=3.4.0->ipywidgets) (0.8.4)\n",
      "Requirement already satisfied: entrypoints>=0.2.2 in c:\\users\\c12003\\appdata\\local\\continuum\\anaconda3\\lib\\site-packages (from nbconvert->notebook>=4.4.1->widgetsnbextension~=3.4.0->ipywidgets) (0.2.3)\n",
      "Requirement already satisfied: bleach in c:\\users\\c12003\\appdata\\local\\continuum\\anaconda3\\lib\\site-packages (from nbconvert->notebook>=4.4.1->widgetsnbextension~=3.4.0->ipywidgets) (3.0.2)\n",
      "Requirement already satisfied: pandocfilters>=1.4.1 in c:\\users\\c12003\\appdata\\local\\continuum\\anaconda3\\lib\\site-packages (from nbconvert->notebook>=4.4.1->widgetsnbextension~=3.4.0->ipywidgets) (1.4.2)\n",
      "Requirement already satisfied: testpath in c:\\users\\c12003\\appdata\\local\\continuum\\anaconda3\\lib\\site-packages (from nbconvert->notebook>=4.4.1->widgetsnbextension~=3.4.0->ipywidgets) (0.4.2)\n",
      "Requirement already satisfied: defusedxml in c:\\users\\c12003\\appdata\\local\\continuum\\anaconda3\\lib\\site-packages (from nbconvert->notebook>=4.4.1->widgetsnbextension~=3.4.0->ipywidgets) (0.5.0)\n",
      "Requirement already satisfied: webencodings in c:\\users\\c12003\\appdata\\local\\continuum\\anaconda3\\lib\\site-packages (from bleach->nbconvert->notebook>=4.4.1->widgetsnbextension~=3.4.0->ipywidgets) (0.5.1)\n"
     ]
    }
   ],
   "source": [
    "import sys\n",
    "!{sys.executable} -m pip install ipywidgets"
   ]
  },
  {
   "cell_type": "code",
   "execution_count": 21,
   "metadata": {},
   "outputs": [],
   "source": [
    "from ipywidgets import widgets"
   ]
  },
  {
   "cell_type": "code",
   "execution_count": 13,
   "metadata": {},
   "outputs": [
    {
     "name": "stdout",
     "output_type": "stream",
     "text": [
      "   userId  movieId  rating   timestamp\n",
      "0       1       31     2.5  1260759144\n",
      "1       1     1029     3.0  1260759179\n",
      "2       1     1061     3.0  1260759182\n",
      "3       1     1129     2.0  1260759185\n",
      "4       1     1172     4.0  1260759205\n",
      "   movieId                               title  \\\n",
      "0        1                    Toy Story (1995)   \n",
      "1        2                      Jumanji (1995)   \n",
      "2        3             Grumpier Old Men (1995)   \n",
      "3        4            Waiting to Exhale (1995)   \n",
      "4        5  Father of the Bride Part II (1995)   \n",
      "\n",
      "                                        genres  \n",
      "0  Adventure|Animation|Children|Comedy|Fantasy  \n",
      "1                   Adventure|Children|Fantasy  \n",
      "2                               Comedy|Romance  \n",
      "3                         Comedy|Drama|Romance  \n",
      "4                                       Comedy  \n"
     ]
    }
   ],
   "source": [
    "# Need to read in the data to use. \n",
    "\n",
    "movies = pd.read_csv(\"movies.csv\", sep = ',')\n",
    "ratings = pd.read_csv(\"ratings.csv\", sep = ',')\n",
    "\n",
    "print(ratings.head())\n",
    "print(movies.head())"
   ]
  },
  {
   "cell_type": "markdown",
   "metadata": {},
   "source": [
    "###### 1. Recommendation Engine\n",
    "\n",
    "The first step in the process is creating a matrix of user ratings for each movie. If there are users and movies, then the user rating matrix will be N x M.\n",
    "\n",
    "The recommendation engine should take as input user ratings one or more movies and output an ordered list of movie recommendations. Test your recommendation engine by selecting and rating ten movies from the top 200 most rated movies. The following is an example of test input.\n",
    "\n",
    "In order to determine which movies to recommend, you should first compute the cosine distance of each existing user’s ratings from the inputs given. You can compute the cosine distance between two vectors using scipy or scikit-learn. Next, compute a weighted average of the ratings of all user ratings using the cosine distance as the weight. In other words, users who gave similar ratings to the input ratings, are weighted higher than those who gave less similar ratings.\n",
    "\n",
    "In mathematical terms, if there are N movies and M users, the user rating matrix is an N x M matrix. The user input is a vector of length N. One row of the user rating matrix represents the movie ratings for one user. If you compute the cosine similarity between that row and the user’s input, you have a measure of how close that user’s ratings are to the input ratings. If the other user rating is everything opposite, the cosine similarity is -1. If they rate everything the same, the cosine similarity is 1.\n",
    "\n",
    "The following Python code demonstrates how to calculate the movie recommendations without using Numpy’s matrix math operations. It uses Python list comprehensions and for loops for the purpose of clarity. The output of this function is a list of length N (the number of unique movies) with a suggested rating for each movie.\n",
    "\n",
    "This function does not take into account movies the user has already rated, so you should make sure you remove those movies from your recommendations. Additionally, an optimal solution would use Numpy’s matrix mathematics, rather than Python lists."
   ]
  },
  {
   "cell_type": "code",
   "execution_count": 86,
   "metadata": {},
   "outputs": [
    {
     "data": {
      "text/html": [
       "<div>\n",
       "<style scoped>\n",
       "    .dataframe tbody tr th:only-of-type {\n",
       "        vertical-align: middle;\n",
       "    }\n",
       "\n",
       "    .dataframe tbody tr th {\n",
       "        vertical-align: top;\n",
       "    }\n",
       "\n",
       "    .dataframe thead th {\n",
       "        text-align: right;\n",
       "    }\n",
       "</style>\n",
       "<table border=\"1\" class=\"dataframe\">\n",
       "  <thead>\n",
       "    <tr style=\"text-align: right;\">\n",
       "      <th></th>\n",
       "      <th>title</th>\n",
       "      <th>rating_x</th>\n",
       "      <th>userId</th>\n",
       "      <th>movieId</th>\n",
       "      <th>rating_y</th>\n",
       "      <th>timestamp</th>\n",
       "      <th>genres</th>\n",
       "    </tr>\n",
       "  </thead>\n",
       "  <tbody>\n",
       "    <tr>\n",
       "      <th>0</th>\n",
       "      <td>Forrest Gump (1994)</td>\n",
       "      <td>341</td>\n",
       "      <td>2</td>\n",
       "      <td>356</td>\n",
       "      <td>3.0</td>\n",
       "      <td>835355628</td>\n",
       "      <td>Comedy|Drama|Romance|War</td>\n",
       "    </tr>\n",
       "    <tr>\n",
       "      <th>1</th>\n",
       "      <td>Forrest Gump (1994)</td>\n",
       "      <td>341</td>\n",
       "      <td>3</td>\n",
       "      <td>356</td>\n",
       "      <td>5.0</td>\n",
       "      <td>1298862167</td>\n",
       "      <td>Comedy|Drama|Romance|War</td>\n",
       "    </tr>\n",
       "    <tr>\n",
       "      <th>2</th>\n",
       "      <td>Forrest Gump (1994)</td>\n",
       "      <td>341</td>\n",
       "      <td>4</td>\n",
       "      <td>356</td>\n",
       "      <td>5.0</td>\n",
       "      <td>949919763</td>\n",
       "      <td>Comedy|Drama|Romance|War</td>\n",
       "    </tr>\n",
       "    <tr>\n",
       "      <th>3</th>\n",
       "      <td>Forrest Gump (1994)</td>\n",
       "      <td>341</td>\n",
       "      <td>5</td>\n",
       "      <td>356</td>\n",
       "      <td>4.0</td>\n",
       "      <td>1163374152</td>\n",
       "      <td>Comedy|Drama|Romance|War</td>\n",
       "    </tr>\n",
       "    <tr>\n",
       "      <th>4</th>\n",
       "      <td>Forrest Gump (1994)</td>\n",
       "      <td>341</td>\n",
       "      <td>7</td>\n",
       "      <td>356</td>\n",
       "      <td>3.0</td>\n",
       "      <td>851868188</td>\n",
       "      <td>Comedy|Drama|Romance|War</td>\n",
       "    </tr>\n",
       "  </tbody>\n",
       "</table>\n",
       "</div>"
      ],
      "text/plain": [
       "                 title  rating_x  userId  movieId  rating_y   timestamp  \\\n",
       "0  Forrest Gump (1994)       341       2      356       3.0   835355628   \n",
       "1  Forrest Gump (1994)       341       3      356       5.0  1298862167   \n",
       "2  Forrest Gump (1994)       341       4      356       5.0   949919763   \n",
       "3  Forrest Gump (1994)       341       5      356       4.0  1163374152   \n",
       "4  Forrest Gump (1994)       341       7      356       3.0   851868188   \n",
       "\n",
       "                     genres  \n",
       "0  Comedy|Drama|Romance|War  \n",
       "1  Comedy|Drama|Romance|War  \n",
       "2  Comedy|Drama|Romance|War  \n",
       "3  Comedy|Drama|Romance|War  \n",
       "4  Comedy|Drama|Romance|War  "
      ]
     },
     "execution_count": 86,
     "metadata": {},
     "output_type": "execute_result"
    }
   ],
   "source": [
    "# Combine the two tables ratings and the movies. Then take the top 200 movies with ratings.\n",
    "\n",
    "combined = pd.merge(ratings, movies, on='movieId', how='left')\n",
    "\n",
    "combined_count = pd.DataFrame(combined.groupby('title')['rating'].count().sort_values(ascending=False).head(200)) \n",
    "\n",
    "combined = pd.merge(combined_count, combined, on='title', how='left')\n",
    "combined.head()\n"
   ]
  },
  {
   "cell_type": "code",
   "execution_count": 88,
   "metadata": {
    "scrolled": true
   },
   "outputs": [],
   "source": [
    "# In this section, we create widgets for interactivity for users to select a movie and then rate it. \n",
    "# As well, we preset the movies and ratings to the ones provided in the test set in the homework.\n",
    "\n",
    "user_rat_mat = pd.pivot_table(combined, values='rating_y', index=['userId'],columns=['title'],aggfunc=np.sum)\n",
    "\n",
    "movie_titles = combined['title'].tolist()\n",
    "\n",
    "movie_1 = widgets.Dropdown(\n",
    "    options=movie_titles,\n",
    "    value='Lethal Weapon (1987)',\n",
    "    description='Movie 1:',\n",
    "    disabled=False,\n",
    ")\n",
    "\n",
    "movie_1_rating = widgets.Dropdown(\n",
    "    options=['0','1','2','3','4','5'],\n",
    "    value='4',\n",
    "    description='Rating:',\n",
    "    disabled=False,\n",
    ")\n",
    "\n",
    "movie_2 = widgets.Dropdown(\n",
    "    options=movie_titles,\n",
    "    value='Natural Born Killers (1994)',\n",
    "    description='Movie 2:',\n",
    "    disabled=False,\n",
    ")\n",
    "\n",
    "movie_2_rating = widgets.Dropdown(\n",
    "    options=['0','1','2','3','4','5'],\n",
    "    value='3',\n",
    "    description='Rating:',\n",
    "    disabled=False,\n",
    ")\n",
    "movie_3 = widgets.Dropdown(\n",
    "    options=movie_titles,\n",
    "    value='Inception (2010)',\n",
    "    description='Movie 3:',\n",
    "    disabled=False,\n",
    ")\n",
    "\n",
    "movie_3_rating = widgets.Dropdown(\n",
    "    options=['0','1','2','3','4','5'],\n",
    "    value='1',\n",
    "    description='Rating:',\n",
    "    disabled=False,\n",
    ")\n",
    "movie_4 = widgets.Dropdown(\n",
    "    options=movie_titles,\n",
    "    value='Heat (1995)',\n",
    "    description='Movie 4:',\n",
    "    disabled=False,\n",
    ")\n",
    "\n",
    "movie_4_rating = widgets.Dropdown(\n",
    "    options=['0','1','2','3','4','5'],\n",
    "    value='0',\n",
    "    description='Rating:',\n",
    "    disabled=False,\n",
    ")\n",
    "movie_5 = widgets.Dropdown(\n",
    "    options=movie_titles,\n",
    "    value='Finding Nemo (2003)',\n",
    "    description='Movie 5:',\n",
    "    disabled=False,\n",
    ")\n",
    "\n",
    "movie_5_rating = widgets.Dropdown(\n",
    "    options=['0','1','2','3','4','5'],\n",
    "    value='3',\n",
    "    description='Rating:',\n",
    "    disabled=False,\n",
    ")\n",
    "movie_6 = widgets.Dropdown(\n",
    "    options=movie_titles,\n",
    "    value='Office Space (1999)',\n",
    "    description='Movie 6:',\n",
    "    disabled=False,\n",
    ")\n",
    "\n",
    "movie_6_rating = widgets.Dropdown(\n",
    "    options=['0','1','2','3','4','5'],\n",
    "    value='1',\n",
    "    description='Rating:',\n",
    "    disabled=False,\n",
    ")\n",
    "movie_7 = widgets.Dropdown(\n",
    "    options=movie_titles,\n",
    "    value='Home Alone (1990)',\n",
    "    description='Movie 7:',\n",
    "    disabled=False,\n",
    ")\n",
    "\n",
    "movie_7_rating = widgets.Dropdown(\n",
    "    options=['0','1','2','3','4','5'],\n",
    "    value='0',\n",
    "    description='Rating:',\n",
    "    disabled=False,\n",
    ")\n",
    "movie_8 = widgets.Dropdown(\n",
    "    options=movie_titles,\n",
    "    value='High Fidelity (2000)',\n",
    "    description='Movie 8:',\n",
    "    disabled=False,\n",
    ")\n",
    "\n",
    "movie_8_rating = widgets.Dropdown(\n",
    "    options=['0','1','2','3','4','5'],\n",
    "    value='2',\n",
    "    description='Rating:',\n",
    "    disabled=False,\n",
    ")\n",
    "movie_9 = widgets.Dropdown(\n",
    "    options=movie_titles,\n",
    "    value='Donnie Darko (2001)',\n",
    "    description='Movie 9:',\n",
    "    disabled=False,\n",
    ")\n",
    "\n",
    "movie_9_rating = widgets.Dropdown(\n",
    "    options=['0','1','2','3','4','5'],\n",
    "    value='3',\n",
    "    description='Rating:',\n",
    "    disabled=False,\n",
    ")\n",
    "movie_10 = widgets.Dropdown(\n",
    "    options=movie_titles,\n",
    "    value='Lion King, The (1994)',\n",
    "    description='Movie 10:',\n",
    "    disabled=False,\n",
    ")\n",
    "\n",
    "movie_10_rating = widgets.Dropdown(\n",
    "    options=['0','1','2','3','4','5'],\n",
    "    value='2',\n",
    "    description='Rating:',\n",
    "    disabled=False,\n",
    ")\n"
   ]
  },
  {
   "cell_type": "code",
   "execution_count": 89,
   "metadata": {},
   "outputs": [
    {
     "data": {
      "application/vnd.jupyter.widget-view+json": {
       "model_id": "fd62fc5404bf4a358597d05c2b5c4508",
       "version_major": 2,
       "version_minor": 0
      },
      "text/plain": [
       "Dropdown(description='Movie 1:', index=25132, options=('Forrest Gump (1994)', 'Forrest Gump (1994)', 'Forrest …"
      ]
     },
     "metadata": {},
     "output_type": "display_data"
    },
    {
     "data": {
      "application/vnd.jupyter.widget-view+json": {
       "model_id": "a7a4f6729d884f10b575e3177f9a0638",
       "version_major": 2,
       "version_minor": 0
      },
      "text/plain": [
       "Dropdown(description='Rating:', index=4, options=('0', '1', '2', '3', '4', '5'), value='4')"
      ]
     },
     "metadata": {},
     "output_type": "display_data"
    }
   ],
   "source": [
    "display(movie_1,movie_1_rating)"
   ]
  },
  {
   "cell_type": "code",
   "execution_count": 90,
   "metadata": {},
   "outputs": [
    {
     "data": {
      "application/vnd.jupyter.widget-view+json": {
       "model_id": "2449713141f9438e9f9eeffab63ae913",
       "version_major": 2,
       "version_minor": 0
      },
      "text/plain": [
       "Dropdown(description='Movie 2:', index=20275, options=('Forrest Gump (1994)', 'Forrest Gump (1994)', 'Forrest …"
      ]
     },
     "metadata": {},
     "output_type": "display_data"
    },
    {
     "data": {
      "application/vnd.jupyter.widget-view+json": {
       "model_id": "4b21b725df7940a7afd86e02139251d9",
       "version_major": 2,
       "version_minor": 0
      },
      "text/plain": [
       "Dropdown(description='Rating:', index=3, options=('0', '1', '2', '3', '4', '5'), value='3')"
      ]
     },
     "metadata": {},
     "output_type": "display_data"
    }
   ],
   "source": [
    "display(movie_2,movie_2_rating)"
   ]
  },
  {
   "cell_type": "code",
   "execution_count": 91,
   "metadata": {},
   "outputs": [
    {
     "data": {
      "application/vnd.jupyter.widget-view+json": {
       "model_id": "467100ed6f0b4b0daafa35b1a7bf9ac9",
       "version_major": 2,
       "version_minor": 0
      },
      "text/plain": [
       "Dropdown(description='Movie 3:', index=18969, options=('Forrest Gump (1994)', 'Forrest Gump (1994)', 'Forrest …"
      ]
     },
     "metadata": {},
     "output_type": "display_data"
    },
    {
     "data": {
      "application/vnd.jupyter.widget-view+json": {
       "model_id": "b5dcc1ff06b64bb8aea94f6b60feb19d",
       "version_major": 2,
       "version_minor": 0
      },
      "text/plain": [
       "Dropdown(description='Rating:', index=1, options=('0', '1', '2', '3', '4', '5'), value='1')"
      ]
     },
     "metadata": {},
     "output_type": "display_data"
    }
   ],
   "source": [
    "display(movie_3,movie_3_rating)"
   ]
  },
  {
   "cell_type": "code",
   "execution_count": 92,
   "metadata": {},
   "outputs": [
    {
     "data": {
      "application/vnd.jupyter.widget-view+json": {
       "model_id": "418344dbc2ad48dabf58d2da3196e4c9",
       "version_major": 2,
       "version_minor": 0
      },
      "text/plain": [
       "Dropdown(description='Movie 4:', index=21748, options=('Forrest Gump (1994)', 'Forrest Gump (1994)', 'Forrest …"
      ]
     },
     "metadata": {},
     "output_type": "display_data"
    },
    {
     "data": {
      "application/vnd.jupyter.widget-view+json": {
       "model_id": "06bb0b3c23e94be893b83949f8dcac44",
       "version_major": 2,
       "version_minor": 0
      },
      "text/plain": [
       "Dropdown(description='Rating:', options=('0', '1', '2', '3', '4', '5'), value='0')"
      ]
     },
     "metadata": {},
     "output_type": "display_data"
    }
   ],
   "source": [
    "display(movie_4,movie_4_rating)"
   ]
  },
  {
   "cell_type": "code",
   "execution_count": 93,
   "metadata": {},
   "outputs": [
    {
     "data": {
      "application/vnd.jupyter.widget-view+json": {
       "model_id": "0013458ddc7d4037872fe89a7a2e4deb",
       "version_major": 2,
       "version_minor": 0
      },
      "text/plain": [
       "Dropdown(description='Movie 5:', index=16282, options=('Forrest Gump (1994)', 'Forrest Gump (1994)', 'Forrest …"
      ]
     },
     "metadata": {},
     "output_type": "display_data"
    },
    {
     "data": {
      "application/vnd.jupyter.widget-view+json": {
       "model_id": "3abadf875aee460b8242e9742f3db97c",
       "version_major": 2,
       "version_minor": 0
      },
      "text/plain": [
       "Dropdown(description='Rating:', index=3, options=('0', '1', '2', '3', '4', '5'), value='3')"
      ]
     },
     "metadata": {},
     "output_type": "display_data"
    }
   ],
   "source": [
    "display(movie_5,movie_5_rating)"
   ]
  },
  {
   "cell_type": "code",
   "execution_count": 94,
   "metadata": {},
   "outputs": [
    {
     "data": {
      "application/vnd.jupyter.widget-view+json": {
       "model_id": "c743e54c0446499f8a78214b5df450da",
       "version_major": 2,
       "version_minor": 0
      },
      "text/plain": [
       "Dropdown(description='Movie 6:', index=20700, options=('Forrest Gump (1994)', 'Forrest Gump (1994)', 'Forrest …"
      ]
     },
     "metadata": {},
     "output_type": "display_data"
    },
    {
     "data": {
      "application/vnd.jupyter.widget-view+json": {
       "model_id": "946dedc6cb1e43368c89c3df70e04468",
       "version_major": 2,
       "version_minor": 0
      },
      "text/plain": [
       "Dropdown(description='Rating:', index=1, options=('0', '1', '2', '3', '4', '5'), value='1')"
      ]
     },
     "metadata": {},
     "output_type": "display_data"
    }
   ],
   "source": [
    "display(movie_6,movie_6_rating)"
   ]
  },
  {
   "cell_type": "code",
   "execution_count": 95,
   "metadata": {},
   "outputs": [
    {
     "data": {
      "application/vnd.jupyter.widget-view+json": {
       "model_id": "06b1a3e10b47446282418271812bde6d",
       "version_major": 2,
       "version_minor": 0
      },
      "text/plain": [
       "Dropdown(description='Movie 7:', index=14279, options=('Forrest Gump (1994)', 'Forrest Gump (1994)', 'Forrest …"
      ]
     },
     "metadata": {},
     "output_type": "display_data"
    },
    {
     "data": {
      "application/vnd.jupyter.widget-view+json": {
       "model_id": "e50288913f974c59b212c73856670961",
       "version_major": 2,
       "version_minor": 0
      },
      "text/plain": [
       "Dropdown(description='Rating:', options=('0', '1', '2', '3', '4', '5'), value='0')"
      ]
     },
     "metadata": {},
     "output_type": "display_data"
    }
   ],
   "source": [
    "display(movie_7,movie_7_rating)"
   ]
  },
  {
   "cell_type": "code",
   "execution_count": 96,
   "metadata": {},
   "outputs": [
    {
     "data": {
      "application/vnd.jupyter.widget-view+json": {
       "model_id": "366f498ce67343b2a2ce4e4d12d4fb5b",
       "version_major": 2,
       "version_minor": 0
      },
      "text/plain": [
       "Dropdown(description='Movie 8:', index=25757, options=('Forrest Gump (1994)', 'Forrest Gump (1994)', 'Forrest …"
      ]
     },
     "metadata": {},
     "output_type": "display_data"
    },
    {
     "data": {
      "application/vnd.jupyter.widget-view+json": {
       "model_id": "dbb07606ccce4d049e7bf195a6d0a831",
       "version_major": 2,
       "version_minor": 0
      },
      "text/plain": [
       "Dropdown(description='Rating:', index=2, options=('0', '1', '2', '3', '4', '5'), value='2')"
      ]
     },
     "metadata": {},
     "output_type": "display_data"
    }
   ],
   "source": [
    "display(movie_8,movie_8_rating)"
   ]
  },
  {
   "cell_type": "code",
   "execution_count": 97,
   "metadata": {},
   "outputs": [
    {
     "data": {
      "application/vnd.jupyter.widget-view+json": {
       "model_id": "011d7e7e12ab441cbaeb1cde278eb8ae",
       "version_major": 2,
       "version_minor": 0
      },
      "text/plain": [
       "Dropdown(description='Movie 9:', index=24399, options=('Forrest Gump (1994)', 'Forrest Gump (1994)', 'Forrest …"
      ]
     },
     "metadata": {},
     "output_type": "display_data"
    },
    {
     "data": {
      "application/vnd.jupyter.widget-view+json": {
       "model_id": "75d90fe94b1b487db1eb7207846f9f51",
       "version_major": 2,
       "version_minor": 0
      },
      "text/plain": [
       "Dropdown(description='Rating:', index=3, options=('0', '1', '2', '3', '4', '5'), value='3')"
      ]
     },
     "metadata": {},
     "output_type": "display_data"
    }
   ],
   "source": [
    "display(movie_9,movie_9_rating)"
   ]
  },
  {
   "cell_type": "code",
   "execution_count": 98,
   "metadata": {},
   "outputs": [
    {
     "data": {
      "application/vnd.jupyter.widget-view+json": {
       "model_id": "60125d26061f4693914ef264420279df",
       "version_major": 2,
       "version_minor": 0
      },
      "text/plain": [
       "Dropdown(description='Movie 10:', index=6053, options=('Forrest Gump (1994)', 'Forrest Gump (1994)', 'Forrest …"
      ]
     },
     "metadata": {},
     "output_type": "display_data"
    },
    {
     "data": {
      "application/vnd.jupyter.widget-view+json": {
       "model_id": "1ffe1f5fe3a0447aa5e080cd6cb27a7d",
       "version_major": 2,
       "version_minor": 0
      },
      "text/plain": [
       "Dropdown(description='Rating:', index=2, options=('0', '1', '2', '3', '4', '5'), value='2')"
      ]
     },
     "metadata": {},
     "output_type": "display_data"
    }
   ],
   "source": [
    "display(movie_10,movie_10_rating)"
   ]
  },
  {
   "cell_type": "code",
   "execution_count": 130,
   "metadata": {},
   "outputs": [],
   "source": [
    "# Then we take the selected values and put them into lists. As well we filter our pivot table of movies and ratings from\n",
    "# other users to be only the movies rated by the input into the widgets.\n",
    "\n",
    "from sklearn.metrics.pairwise import cosine_similarity\n",
    "\n",
    "user_input_movies = [movie_1.value,movie_2.value,movie_3.value,movie_4.value,movie_5.value,\n",
    "                     movie_6.value,movie_7.value,movie_8.value,movie_9.value, movie_10.value]\n",
    "user_input_ratings = [movie_1_rating.value,movie_2_rating.value,movie_3_rating.value,\n",
    "                      movie_4_rating.value,movie_5_rating.value,movie_6_rating.value,\n",
    "                      movie_7_rating.value,movie_8_rating.value,movie_9_rating.value, movie_10_rating.value]\n",
    "\n",
    "\n",
    "req_movie_df = user_rat_mat.filter(items=user_input_movies)"
   ]
  },
  {
   "cell_type": "code",
   "execution_count": 190,
   "metadata": {
    "scrolled": true
   },
   "outputs": [
    {
     "data": {
      "text/html": [
       "<div>\n",
       "<style scoped>\n",
       "    .dataframe tbody tr th:only-of-type {\n",
       "        vertical-align: middle;\n",
       "    }\n",
       "\n",
       "    .dataframe tbody tr th {\n",
       "        vertical-align: top;\n",
       "    }\n",
       "\n",
       "    .dataframe thead th {\n",
       "        text-align: right;\n",
       "    }\n",
       "</style>\n",
       "<table border=\"1\" class=\"dataframe\">\n",
       "  <thead>\n",
       "    <tr style=\"text-align: right;\">\n",
       "      <th></th>\n",
       "      <th>score_1</th>\n",
       "    </tr>\n",
       "    <tr>\n",
       "      <th>title</th>\n",
       "      <th></th>\n",
       "    </tr>\n",
       "  </thead>\n",
       "  <tbody>\n",
       "    <tr>\n",
       "      <th>Donnie Darko (2001)</th>\n",
       "      <td>1.417064</td>\n",
       "    </tr>\n",
       "    <tr>\n",
       "      <th>Lethal Weapon (1987)</th>\n",
       "      <td>1.311427</td>\n",
       "    </tr>\n",
       "    <tr>\n",
       "      <th>Finding Nemo (2003)</th>\n",
       "      <td>1.192757</td>\n",
       "    </tr>\n",
       "    <tr>\n",
       "      <th>High Fidelity (2000)</th>\n",
       "      <td>1.160440</td>\n",
       "    </tr>\n",
       "    <tr>\n",
       "      <th>O Brother, Where Art Thou? (2000)</th>\n",
       "      <td>0.980193</td>\n",
       "    </tr>\n",
       "    <tr>\n",
       "      <th>Lost in Translation (2003)</th>\n",
       "      <td>0.977083</td>\n",
       "    </tr>\n",
       "    <tr>\n",
       "      <th>Catch Me If You Can (2002)</th>\n",
       "      <td>0.883215</td>\n",
       "    </tr>\n",
       "    <tr>\n",
       "      <th>Full Metal Jacket (1987)</th>\n",
       "      <td>0.881003</td>\n",
       "    </tr>\n",
       "    <tr>\n",
       "      <th>Indiana Jones and the Temple of Doom (1984)</th>\n",
       "      <td>0.859678</td>\n",
       "    </tr>\n",
       "    <tr>\n",
       "      <th>Office Space (1999)</th>\n",
       "      <td>0.847523</td>\n",
       "    </tr>\n",
       "    <tr>\n",
       "      <th>Eternal Sunshine of the Spotless Mind (2004)</th>\n",
       "      <td>0.843857</td>\n",
       "    </tr>\n",
       "    <tr>\n",
       "      <th>Snatch (2000)</th>\n",
       "      <td>0.814800</td>\n",
       "    </tr>\n",
       "    <tr>\n",
       "      <th>Kill Bill: Vol. 2 (2004)</th>\n",
       "      <td>0.814373</td>\n",
       "    </tr>\n",
       "    <tr>\n",
       "      <th>Bourne Identity, The (2002)</th>\n",
       "      <td>0.808601</td>\n",
       "    </tr>\n",
       "    <tr>\n",
       "      <th>Natural Born Killers (1994)</th>\n",
       "      <td>0.793209</td>\n",
       "    </tr>\n",
       "    <tr>\n",
       "      <th>Ocean's Eleven (2001)</th>\n",
       "      <td>0.787150</td>\n",
       "    </tr>\n",
       "    <tr>\n",
       "      <th>Kill Bill: Vol. 1 (2003)</th>\n",
       "      <td>0.783882</td>\n",
       "    </tr>\n",
       "    <tr>\n",
       "      <th>Shining, The (1980)</th>\n",
       "      <td>0.771046</td>\n",
       "    </tr>\n",
       "    <tr>\n",
       "      <th>Cast Away (2000)</th>\n",
       "      <td>0.739430</td>\n",
       "    </tr>\n",
       "    <tr>\n",
       "      <th>Big (1988)</th>\n",
       "      <td>0.727687</td>\n",
       "    </tr>\n",
       "    <tr>\n",
       "      <th>Spider-Man 2 (2004)</th>\n",
       "      <td>0.711753</td>\n",
       "    </tr>\n",
       "    <tr>\n",
       "      <th>Ferris Bueller's Day Off (1986)</th>\n",
       "      <td>0.703548</td>\n",
       "    </tr>\n",
       "    <tr>\n",
       "      <th>Monsters, Inc. (2001)</th>\n",
       "      <td>0.689500</td>\n",
       "    </tr>\n",
       "    <tr>\n",
       "      <th>Meet the Parents (2000)</th>\n",
       "      <td>0.685944</td>\n",
       "    </tr>\n",
       "    <tr>\n",
       "      <th>Harry Potter and the Prisoner of Azkaban (2004)</th>\n",
       "      <td>0.685091</td>\n",
       "    </tr>\n",
       "    <tr>\n",
       "      <th>Incredibles, The (2004)</th>\n",
       "      <td>0.669026</td>\n",
       "    </tr>\n",
       "    <tr>\n",
       "      <th>Harry Potter and the Sorcerer's Stone (a.k.a. Harry Potter and the Philosopher's Stone) (2001)</th>\n",
       "      <td>0.666072</td>\n",
       "    </tr>\n",
       "    <tr>\n",
       "      <th>Edward Scissorhands (1990)</th>\n",
       "      <td>0.627401</td>\n",
       "    </tr>\n",
       "    <tr>\n",
       "      <th>Beetlejuice (1988)</th>\n",
       "      <td>0.602999</td>\n",
       "    </tr>\n",
       "    <tr>\n",
       "      <th>Clerks (1994)</th>\n",
       "      <td>0.586983</td>\n",
       "    </tr>\n",
       "    <tr>\n",
       "      <th>...</th>\n",
       "      <td>...</td>\n",
       "    </tr>\n",
       "    <tr>\n",
       "      <th>Contact (1997)</th>\n",
       "      <td>-0.209588</td>\n",
       "    </tr>\n",
       "    <tr>\n",
       "      <th>Amadeus (1984)</th>\n",
       "      <td>-0.221073</td>\n",
       "    </tr>\n",
       "    <tr>\n",
       "      <th>Twister (1996)</th>\n",
       "      <td>-0.222033</td>\n",
       "    </tr>\n",
       "    <tr>\n",
       "      <th>Star Wars: Episode VI - Return of the Jedi (1983)</th>\n",
       "      <td>-0.224162</td>\n",
       "    </tr>\n",
       "    <tr>\n",
       "      <th>Jurassic Park (1993)</th>\n",
       "      <td>-0.225647</td>\n",
       "    </tr>\n",
       "    <tr>\n",
       "      <th>Usual Suspects, The (1995)</th>\n",
       "      <td>-0.228573</td>\n",
       "    </tr>\n",
       "    <tr>\n",
       "      <th>Shakespeare in Love (1998)</th>\n",
       "      <td>-0.229331</td>\n",
       "    </tr>\n",
       "    <tr>\n",
       "      <th>Casablanca (1942)</th>\n",
       "      <td>-0.237387</td>\n",
       "    </tr>\n",
       "    <tr>\n",
       "      <th>Dr. Strangelove or: How I Learned to Stop Worrying and Love the Bomb (1964)</th>\n",
       "      <td>-0.245270</td>\n",
       "    </tr>\n",
       "    <tr>\n",
       "      <th>Rear Window (1954)</th>\n",
       "      <td>-0.245359</td>\n",
       "    </tr>\n",
       "    <tr>\n",
       "      <th>Dances with Wolves (1990)</th>\n",
       "      <td>-0.253338</td>\n",
       "    </tr>\n",
       "    <tr>\n",
       "      <th>American Beauty (1999)</th>\n",
       "      <td>-0.255768</td>\n",
       "    </tr>\n",
       "    <tr>\n",
       "      <th>Pulp Fiction (1994)</th>\n",
       "      <td>-0.255834</td>\n",
       "    </tr>\n",
       "    <tr>\n",
       "      <th>Forrest Gump (1994)</th>\n",
       "      <td>-0.267223</td>\n",
       "    </tr>\n",
       "    <tr>\n",
       "      <th>Birdcage, The (1996)</th>\n",
       "      <td>-0.289218</td>\n",
       "    </tr>\n",
       "    <tr>\n",
       "      <th>Independence Day (a.k.a. ID4) (1996)</th>\n",
       "      <td>-0.306508</td>\n",
       "    </tr>\n",
       "    <tr>\n",
       "      <th>Godfather: Part II, The (1974)</th>\n",
       "      <td>-0.312820</td>\n",
       "    </tr>\n",
       "    <tr>\n",
       "      <th>Twelve Monkeys (a.k.a. 12 Monkeys) (1995)</th>\n",
       "      <td>-0.320080</td>\n",
       "    </tr>\n",
       "    <tr>\n",
       "      <th>Godfather, The (1972)</th>\n",
       "      <td>-0.333207</td>\n",
       "    </tr>\n",
       "    <tr>\n",
       "      <th>Star Trek: Generations (1994)</th>\n",
       "      <td>-0.336436</td>\n",
       "    </tr>\n",
       "    <tr>\n",
       "      <th>Silence of the Lambs, The (1991)</th>\n",
       "      <td>-0.370277</td>\n",
       "    </tr>\n",
       "    <tr>\n",
       "      <th>Leaving Las Vegas (1995)</th>\n",
       "      <td>-0.399626</td>\n",
       "    </tr>\n",
       "    <tr>\n",
       "      <th>Schindler's List (1993)</th>\n",
       "      <td>-0.457240</td>\n",
       "    </tr>\n",
       "    <tr>\n",
       "      <th>Star Wars: Episode IV - A New Hope (1977)</th>\n",
       "      <td>-0.459798</td>\n",
       "    </tr>\n",
       "    <tr>\n",
       "      <th>Broken Arrow (1996)</th>\n",
       "      <td>-0.493467</td>\n",
       "    </tr>\n",
       "    <tr>\n",
       "      <th>Shawshank Redemption, The (1994)</th>\n",
       "      <td>-0.495912</td>\n",
       "    </tr>\n",
       "    <tr>\n",
       "      <th>Fargo (1996)</th>\n",
       "      <td>-0.499982</td>\n",
       "    </tr>\n",
       "    <tr>\n",
       "      <th>Mr. Holland's Opus (1995)</th>\n",
       "      <td>-0.566484</td>\n",
       "    </tr>\n",
       "    <tr>\n",
       "      <th>Dead Man Walking (1995)</th>\n",
       "      <td>-0.622940</td>\n",
       "    </tr>\n",
       "    <tr>\n",
       "      <th>Sense and Sensibility (1995)</th>\n",
       "      <td>-0.713484</td>\n",
       "    </tr>\n",
       "  </tbody>\n",
       "</table>\n",
       "<p>200 rows × 1 columns</p>\n",
       "</div>"
      ],
      "text/plain": [
       "                                                     score_1\n",
       "title                                                       \n",
       "Donnie Darko (2001)                                 1.417064\n",
       "Lethal Weapon (1987)                                1.311427\n",
       "Finding Nemo (2003)                                 1.192757\n",
       "High Fidelity (2000)                                1.160440\n",
       "O Brother, Where Art Thou? (2000)                   0.980193\n",
       "Lost in Translation (2003)                          0.977083\n",
       "Catch Me If You Can (2002)                          0.883215\n",
       "Full Metal Jacket (1987)                            0.881003\n",
       "Indiana Jones and the Temple of Doom (1984)         0.859678\n",
       "Office Space (1999)                                 0.847523\n",
       "Eternal Sunshine of the Spotless Mind (2004)        0.843857\n",
       "Snatch (2000)                                       0.814800\n",
       "Kill Bill: Vol. 2 (2004)                            0.814373\n",
       "Bourne Identity, The (2002)                         0.808601\n",
       "Natural Born Killers (1994)                         0.793209\n",
       "Ocean's Eleven (2001)                               0.787150\n",
       "Kill Bill: Vol. 1 (2003)                            0.783882\n",
       "Shining, The (1980)                                 0.771046\n",
       "Cast Away (2000)                                    0.739430\n",
       "Big (1988)                                          0.727687\n",
       "Spider-Man 2 (2004)                                 0.711753\n",
       "Ferris Bueller's Day Off (1986)                     0.703548\n",
       "Monsters, Inc. (2001)                               0.689500\n",
       "Meet the Parents (2000)                             0.685944\n",
       "Harry Potter and the Prisoner of Azkaban (2004)     0.685091\n",
       "Incredibles, The (2004)                             0.669026\n",
       "Harry Potter and the Sorcerer's Stone (a.k.a. H...  0.666072\n",
       "Edward Scissorhands (1990)                          0.627401\n",
       "Beetlejuice (1988)                                  0.602999\n",
       "Clerks (1994)                                       0.586983\n",
       "...                                                      ...\n",
       "Contact (1997)                                     -0.209588\n",
       "Amadeus (1984)                                     -0.221073\n",
       "Twister (1996)                                     -0.222033\n",
       "Star Wars: Episode VI - Return of the Jedi (1983)  -0.224162\n",
       "Jurassic Park (1993)                               -0.225647\n",
       "Usual Suspects, The (1995)                         -0.228573\n",
       "Shakespeare in Love (1998)                         -0.229331\n",
       "Casablanca (1942)                                  -0.237387\n",
       "Dr. Strangelove or: How I Learned to Stop Worry... -0.245270\n",
       "Rear Window (1954)                                 -0.245359\n",
       "Dances with Wolves (1990)                          -0.253338\n",
       "American Beauty (1999)                             -0.255768\n",
       "Pulp Fiction (1994)                                -0.255834\n",
       "Forrest Gump (1994)                                -0.267223\n",
       "Birdcage, The (1996)                               -0.289218\n",
       "Independence Day (a.k.a. ID4) (1996)               -0.306508\n",
       "Godfather: Part II, The (1974)                     -0.312820\n",
       "Twelve Monkeys (a.k.a. 12 Monkeys) (1995)          -0.320080\n",
       "Godfather, The (1972)                              -0.333207\n",
       "Star Trek: Generations (1994)                      -0.336436\n",
       "Silence of the Lambs, The (1991)                   -0.370277\n",
       "Leaving Las Vegas (1995)                           -0.399626\n",
       "Schindler's List (1993)                            -0.457240\n",
       "Star Wars: Episode IV - A New Hope (1977)          -0.459798\n",
       "Broken Arrow (1996)                                -0.493467\n",
       "Shawshank Redemption, The (1994)                   -0.495912\n",
       "Fargo (1996)                                       -0.499982\n",
       "Mr. Holland's Opus (1995)                          -0.566484\n",
       "Dead Man Walking (1995)                            -0.622940\n",
       "Sense and Sensibility (1995)                       -0.713484\n",
       "\n",
       "[200 rows x 1 columns]"
      ]
     },
     "execution_count": 190,
     "metadata": {},
     "output_type": "execute_result"
    }
   ],
   "source": [
    "# For this section we take the cosine similarity of users ratings of the movies and the widget input ratings.\n",
    "# Then we feed these results back into the overall movie matrix to the provide a suggested list of movies \n",
    "# based on users that rated movies similarly to them. And suggested those movies.\n",
    "\n",
    "keys = []\n",
    "vals = []\n",
    "for m in range(len(req_movie_df)):\n",
    "    req_movie_df = req_movie_df.fillna(-1)\n",
    "\n",
    "    v = req_movie_df.iloc[[m]].index.values\n",
    "    key = v.tolist()[0]\n",
    "\n",
    "\n",
    "    a = np.array(req_movie_df.iloc[m])\n",
    "    b = np.array(user_input_ratings)\n",
    "    aa = a.reshape(1,10)\n",
    "    ba = b.reshape(1,10)\n",
    "    similarity = cosine_similarity(aa, ba)\n",
    "    similarity_2 = similarity.tolist()[0]\n",
    "    \n",
    "    keys.append(key)\n",
    "    vals.append(similarity_2[0])\n",
    "\n",
    "similarity_mat = list(zip(keys,vals))\n",
    "similarity_df = pd.DataFrame(similarity_mat, columns=['userId', 'similarity'])    \n",
    "\n",
    "\n",
    "all_user_ratings = pd.merge(combined, similarity_df, on='userId', how='left')\n",
    "\n",
    "all_user_ratings.fillna(0)\n",
    "all_user_ratings[\"score_1\"] = all_user_ratings.rating_y * all_user_ratings.similarity\n",
    "\n",
    "Suggested_movies_rats = pd.pivot_table(all_user_ratings, values='score_1', index=['title'],aggfunc=np.mean)\n",
    "Suggested_movies_rats = Suggested_movies_rats.sort_values(by='score_1', ascending=False)\n",
    "Suggested_movies_rats"
   ]
  },
  {
   "cell_type": "markdown",
   "metadata": {},
   "source": [
    "###### 2.  Movie Search Engine\n",
    "\n",
    "Now that you have a recommendation engine, you need to provide a way for users to find movies to rate. You will need to create a function that takes in a search parameter and returns a ranked list of movies that best matches the input. For this data set, there are less than 10,000 movies and you only need to worry about searching the titles for those movies. Therefore, we do not need to worry as much about coming up with an optimal solution that scales for larger datasets.\n",
    "\n",
    "When returning candidate movie titles, you will want to return the titles that match the search input with the highest probability. Consider dividing up the titles and the user input into n-grams, but instead of using n-grams of works, the n-grams are characters in the string.\n",
    "\n",
    "For example, the title Batman contains the bigrams, [‘ba’, ‘tm’, ‘an’, ‘at’, ‘ma’]. You could then match that input title to titles that contain those bigrams with the highest probability. Find a search method that generally returns correct recommendations based off the search input."
   ]
  },
  {
   "cell_type": "code",
   "execution_count": 217,
   "metadata": {},
   "outputs": [],
   "source": [
    "# For this section we take bigrams of a search word and then bigrams of all of the movies and then count how many \n",
    "# bigrams match from the input word to all movies in the list of movie titles. Then sort and filter for the top 5\n",
    "# results of highest counted bigrams based on the search word.\n",
    "\n",
    "import nltk\n",
    "import wikipedia\n",
    "from nltk.tokenize import sent_tokenize\n",
    "from nltk.tokenize import word_tokenize\n",
    "\n",
    "def search(word):\n",
    "    \n",
    "    movie_word_bigram_match_count = []\n",
    "    \n",
    "    token=nltk.word_tokenize(word)\n",
    "    tokens = []\n",
    "    \n",
    "    for i in token:\n",
    "        for x in i:\n",
    "            tokens.append(x)\n",
    "    \n",
    "    word_bigrams = list(nltk.bigrams(tokens))\n",
    "            \n",
    "    for movie in movie_titles:\n",
    "        movie_token = nltk.word_tokenize(movie)\n",
    "        movie_tokens = []\n",
    "        for i in movie_token:\n",
    "            for x in i:\n",
    "                movie_tokens.append(x)\n",
    "        movie_bigrams = list(nltk.bigrams(movie_tokens))\n",
    "        movie_counts = []\n",
    "        for z in word_bigrams:\n",
    "            bigram_count = movie_bigrams.count(z)\n",
    "            movie_counts.append(bigram_count)\n",
    "        totals = sum(movie_counts)\n",
    "        movie_word_bigram_match_count.append(totals)\n",
    "        \n",
    "    \n",
    "    movie_match = list(zip(movie_titles,movie_word_bigram_match_count))\n",
    "    Search_df = pd.DataFrame(movie_match, columns=['movie', 'match'])\n",
    "    Search_df = Search_df.sort_values(by='match', ascending=False).drop_duplicates()\n",
    "    return Search_df['movie'].iloc[0:5]\n"
   ]
  },
  {
   "cell_type": "markdown",
   "metadata": {},
   "source": [
    "###### 3. Movie Recommendation Application\n",
    "\n",
    "In this part, you create an interactive movie recommendation application by combining the movie recommendation engine and the movie search engine. To accomplish this, you will create a simple command line application. Upon starting the application, you should ask the user to find a movie to rate. It should return a list of numbered movies or an “I don’t see what I’m looking for” option.\n",
    "\n",
    "If the user selects a movie, they need to enter a rating from zero to five and that movie will be added to their list of movies.\n",
    "\n",
    "\n",
    "After the user has rated at least five movies, give them the option to rate more movies or to get recommendations. Your application should return a ranked list of five movie recommendations."
   ]
  },
  {
   "cell_type": "code",
   "execution_count": 223,
   "metadata": {},
   "outputs": [],
   "source": [
    "def search_bar(word):\n",
    "    \n",
    "    movie_word_bigram_match_count = []\n",
    "    \n",
    "    token=nltk.word_tokenize(word)\n",
    "    tokens = []\n",
    "    \n",
    "    for i in token:\n",
    "        for x in i:\n",
    "            tokens.append(x)\n",
    "    \n",
    "    word_bigrams = list(nltk.bigrams(tokens))\n",
    "            \n",
    "    for movie in movie_titles:\n",
    "        movie_token = nltk.word_tokenize(movie)\n",
    "        movie_tokens = []\n",
    "        for i in movie_token:\n",
    "            for x in i:\n",
    "                movie_tokens.append(x)\n",
    "        movie_bigrams = list(nltk.bigrams(movie_tokens))\n",
    "        movie_counts = []\n",
    "        for z in word_bigrams:\n",
    "            bigram_count = movie_bigrams.count(z)\n",
    "            movie_counts.append(bigram_count)\n",
    "        totals = sum(movie_counts)\n",
    "        movie_word_bigram_match_count.append(totals)\n",
    "        \n",
    "    \n",
    "    movie_match = list(zip(movie_titles,movie_word_bigram_match_count))\n",
    "    Search_df = pd.DataFrame(movie_match, columns=['movie', 'match'])\n",
    "    Search_df = Search_df.sort_values(by='match', ascending=False).drop_duplicates()\n",
    "    G = list(Search_df['movie'].iloc[0:5])\n",
    "    return G"
   ]
  },
  {
   "cell_type": "code",
   "execution_count": 224,
   "metadata": {},
   "outputs": [
    {
     "data": {
      "text/plain": [
       "8452                           Beauty and the Beast (1991)\n",
       "3770     Raiders of the Lost Ark (Indiana Jones and the...\n",
       "12453    Pirates of the Caribbean: The Curse of the Bla...\n",
       "21122    Harry Potter and the Sorcerer's Stone (a.k.a. ...\n",
       "20977    Dr. Strangelove or: How I Learned to Stop Worr...\n",
       "Name: movie, dtype: object"
      ]
     },
     "execution_count": 224,
     "metadata": {},
     "output_type": "execute_result"
    }
   ],
   "source": [
    "\n",
    "search(\"Beauty and the Beast\")"
   ]
  },
  {
   "cell_type": "code",
   "execution_count": 231,
   "metadata": {},
   "outputs": [
    {
     "data": {
      "application/vnd.jupyter.widget-view+json": {
       "model_id": "47ea39a45d3745bbb646975fa6c3c3b0",
       "version_major": 2,
       "version_minor": 0
      },
      "text/plain": [
       "interactive(children=(Text(value='claps', description='Search'), IntSlider(value=3, description='Rating', max=…"
      ]
     },
     "metadata": {},
     "output_type": "display_data"
    }
   ],
   "source": [
    "# For this section we have an interactive list of menus based on the search word which then populates a\n",
    "# drop down menu of the top 5 matches to the movie titles list and then there is a rating slider defaulted to 3.\n",
    "# Ran out of time to feed this back into the workflow to recommend a list of movies.\n",
    "\n",
    "# However, I did already create an interactive drop down menu for movie titles and ratings to then\n",
    "# be fed into a recommendation workflow.\n",
    "\n",
    "from ipywidgets import interact, interact_manual\n",
    "\n",
    "\n",
    "@interact\n",
    "def show_movies(Search='Enter Text Here', Rating = widgets.IntSlider(min=0,max=5,step=1,value=3)):\n",
    "    return widgets.Dropdown(options = search(Search)) "
   ]
  },
  {
   "cell_type": "code",
   "execution_count": null,
   "metadata": {},
   "outputs": [],
   "source": []
  }
 ],
 "metadata": {
  "kernelspec": {
   "display_name": "Python 3",
   "language": "python",
   "name": "python3"
  },
  "language_info": {
   "codemirror_mode": {
    "name": "ipython",
    "version": 3
   },
   "file_extension": ".py",
   "mimetype": "text/x-python",
   "name": "python",
   "nbconvert_exporter": "python",
   "pygments_lexer": "ipython3",
   "version": "3.7.1"
  }
 },
 "nbformat": 4,
 "nbformat_minor": 2
}
